{
 "cells": [
  {
   "cell_type": "markdown",
   "id": "a1a21e2f-776d-4240-90af-3625b96aef21",
   "metadata": {},
   "source": [
    "# Introduction to Categorical Data Encoding\n",
    "\n",
    "Categorical data encoding is a crucial step in the data preprocessing pipeline, particularly when preparing data for machine learning models. Categorical data refers to variables that contain label values rather than numeric values. Common examples include gender, nationality, and color. Since most machine learning algorithms require numerical input, encoding categorical data is essential.\n",
    "\n",
    "In this guide, we will explore two popular techniques for encoding categorical data: **One-Hot Encoding** and **Label Encoding**. We will provide examples of each method and demonstrate their effects through visualizations.\n",
    "\n",
    "- **Label Encoding**: This method converts categorical labels into numeric values. Each unique category is assigned an integer value. While simple, this approach can introduce ordinal relationships where none exist, potentially impacting model performance.\n",
    "\n",
    "- **One-Hot Encoding**: This technique creates binary columns for each category. Each column corresponds to a unique category, and a value of 1 or 0 indicates the presence or absence of that category. One-hot encoding prevents ordinal relationships but can lead to a high-dimensional feature space, especially with many unique categories.\n",
    "\n",
    "Understanding and choosing the right encoding method is vital for ensuring that machine learning models interpret categorical data correctly and perform optimally."
   ]
  },
  {
   "cell_type": "code",
   "execution_count": 1,
   "id": "97ac122c-4961-49ad-a487-d52dba113319",
   "metadata": {},
   "outputs": [],
   "source": [
    "import pandas as pd\n",
    "import numpy as np\n",
    "import matplotlib.pyplot as plt\n",
    "import seaborn as sns\n",
    "from sklearn.preprocessing import OneHotEncoder, LabelEncoder"
   ]
  },
  {
   "cell_type": "code",
   "execution_count": 2,
   "id": "3f92766c-07c4-4eb8-92b2-5fd47f1ec4da",
   "metadata": {},
   "outputs": [
    {
     "name": "stdout",
     "output_type": "stream",
     "text": [
      "Original Data:\n",
      "   Color Size  Price\n",
      "0    Red    S     10\n",
      "1   Blue    M     15\n",
      "2  Green    L     20\n",
      "3   Blue    L     10\n",
      "4    Red    M     15\n",
      "5  Green    S     20\n",
      "6  Green    S     15\n",
      "7   Blue    M     10\n",
      "8    Red    L     20\n",
      "9    Red    M     10\n"
     ]
    }
   ],
   "source": [
    "\n",
    "# Sample data\n",
    "data = {\n",
    "    'Color': ['Red', 'Blue', 'Green', 'Blue', 'Red', 'Green', 'Green', 'Blue', 'Red', 'Red'],\n",
    "    'Size': ['S', 'M', 'L', 'L', 'M', 'S', 'S', 'M', 'L', 'M'],\n",
    "    'Price': [10, 15, 20, 10, 15, 20, 15, 10, 20, 10]\n",
    "}\n",
    "\n",
    "# Create a DataFrame\n",
    "df = pd.DataFrame(data)\n",
    "\n",
    "# Display the original data\n",
    "print(\"Original Data:\")\n",
    "print(df)"
   ]
  },
  {
   "cell_type": "markdown",
   "id": "ac679b59-2f05-4288-9f1c-eeeab38b290e",
   "metadata": {},
   "source": [
    "<hr>\n",
    "\n",
    "## Label Encoding"
   ]
  },
  {
   "cell_type": "code",
   "execution_count": 3,
   "id": "d0252608-c37c-4a73-a684-c4ef14d012e1",
   "metadata": {},
   "outputs": [
    {
     "name": "stdout",
     "output_type": "stream",
     "text": [
      "   Color Size  Price  Color_Label  Size_Label\n",
      "0    Red    S     10            2           2\n",
      "1   Blue    M     15            0           1\n",
      "2  Green    L     20            1           0\n",
      "3   Blue    L     10            0           0\n",
      "4    Red    M     15            2           1\n",
      "5  Green    S     20            1           2\n",
      "6  Green    S     15            1           2\n",
      "7   Blue    M     10            0           1\n",
      "8    Red    L     20            2           0\n",
      "9    Red    M     10            2           1\n"
     ]
    }
   ],
   "source": [
    "# Label Encoding\n",
    "label_encoder = LabelEncoder()\n",
    "df['Color_Label'] = label_encoder.fit_transform(df['Color'])\n",
    "df['Size_Label'] = label_encoder.fit_transform(df['Size'])\n",
    "print(df)"
   ]
  },
  {
   "cell_type": "code",
   "execution_count": 4,
   "id": "9501f1f4-8b23-446a-ba7b-28a4b13557d3",
   "metadata": {
    "scrolled": true
   },
   "outputs": [
    {
     "name": "stdout",
     "output_type": "stream",
     "text": [
      "Label Encoding : \n",
      "\tColor\n",
      "\t Red \t-  2\n",
      "\t Blue \t-  0\n",
      "\t Green \t-  1\n",
      "\t Blue \t-  0\n",
      "\t Red \t-  2\n",
      "\t Green \t-  1\n",
      "\t Green \t-  1\n",
      "\t Blue \t-  0\n",
      "\t Red \t-  2\n",
      "\t Red \t-  2\n",
      "\n",
      "\n",
      "\tSize\n",
      "\t S \t-  2\n",
      "\t M \t-  1\n",
      "\t L \t-  0\n",
      "\t L \t-  0\n",
      "\t M \t-  1\n",
      "\t S \t-  2\n",
      "\t S \t-  2\n",
      "\t M \t-  1\n",
      "\t L \t-  0\n",
      "\t M \t-  1\n"
     ]
    }
   ],
   "source": [
    "print(\"Label Encoding : \\n\\tColor\")\n",
    "for x,y in zip(df['Color'],df['Color_Label']):\n",
    "    print(f'\\t {x} \\t-  {y}')\n",
    "\n",
    "print(\"\\n\\n\\tSize\")\n",
    "for x,y in zip(df['Size'],df['Size_Label']):\n",
    "    print(f'\\t {x} \\t-  {y}')"
   ]
  },
  {
   "cell_type": "markdown",
   "id": "755da131-39cd-40a1-b5b8-ff138792c117",
   "metadata": {},
   "source": [
    "<hr>\n",
    "\n",
    "## One Hot Encoding"
   ]
  },
  {
   "cell_type": "code",
   "execution_count": 5,
   "id": "953e15ae-d6cc-476a-8606-cb2d8c1c28d6",
   "metadata": {},
   "outputs": [],
   "source": [
    "# One-Hot Encoding\n",
    "one_hot_encoder = OneHotEncoder(sparse_output=False)\n",
    "color_encoded = one_hot_encoder.fit_transform(df[['Color']])\n",
    "size_encoded = one_hot_encoder.fit_transform(df[['Size']])"
   ]
  },
  {
   "cell_type": "code",
   "execution_count": 6,
   "id": "51672357-d244-4c2d-8f07-ee99742c6225",
   "metadata": {},
   "outputs": [
    {
     "name": "stdout",
     "output_type": "stream",
     "text": [
      "[[0. 0. 1.]\n",
      " [1. 0. 0.]\n",
      " [0. 1. 0.]\n",
      " [1. 0. 0.]\n",
      " [0. 0. 1.]\n",
      " [0. 1. 0.]\n",
      " [0. 1. 0.]\n",
      " [1. 0. 0.]\n",
      " [0. 0. 1.]\n",
      " [0. 0. 1.]]\n"
     ]
    }
   ],
   "source": [
    "print(color_encoded)"
   ]
  },
  {
   "cell_type": "code",
   "execution_count": 7,
   "id": "7559d706-c31a-4fb6-b440-41915ed85fdc",
   "metadata": {},
   "outputs": [],
   "source": [
    "# Convert the arrays to DataFrames\n",
    "one_hot_encoder.fit(df[['Color']])\n",
    "color_encoded_df = pd.DataFrame(color_encoded, columns=[f'Color_{category}' for category in label_encoder.classes_])\n",
    "one_hot_encoder.fit(df[['Size']])\n",
    "size_encoded_df = pd.DataFrame(size_encoded, columns=[f'Size_{category}' for category in label_encoder.classes_])"
   ]
  },
  {
   "cell_type": "code",
   "execution_count": 8,
   "id": "56d9880a-5397-421f-a99a-519f4d4a50d9",
   "metadata": {},
   "outputs": [
    {
     "name": "stdout",
     "output_type": "stream",
     "text": [
      "   Color_L  Color_M  Color_S\n",
      "0      0.0      0.0      1.0\n",
      "1      1.0      0.0      0.0\n",
      "2      0.0      1.0      0.0\n",
      "3      1.0      0.0      0.0\n",
      "4      0.0      0.0      1.0\n",
      "5      0.0      1.0      0.0\n",
      "6      0.0      1.0      0.0\n",
      "7      1.0      0.0      0.0\n",
      "8      0.0      0.0      1.0\n",
      "9      0.0      0.0      1.0\n"
     ]
    }
   ],
   "source": [
    "print(color_encoded_df)"
   ]
  },
  {
   "cell_type": "code",
   "execution_count": 9,
   "id": "a40422a7-6ead-4d8c-a0cf-a9197d0b1f7c",
   "metadata": {},
   "outputs": [],
   "source": [
    "# Concatenate the original DataFrame with the new one-hot encoded DataFrames\n",
    "df_one_hot = pd.concat([df, color_encoded_df, size_encoded_df], axis=1)"
   ]
  },
  {
   "cell_type": "markdown",
   "id": "b38ffc42-c618-4e5c-85c4-963cda679904",
   "metadata": {},
   "source": [
    "<hr>\n",
    "\n",
    "## Visualization"
   ]
  },
  {
   "cell_type": "code",
   "execution_count": 10,
   "id": "8ca758e4-1891-4f55-ac16-b5e464ff291b",
   "metadata": {},
   "outputs": [
    {
     "data": {
      "image/png": "[encoded data removed]",
      "text/plain": [
       "<Figure size 1500x500 with 3 Axes>"
      ]
     },
     "metadata": {},
     "output_type": "display_data"
    }
   ],
   "source": [
    "# Visualize the effect of encoding\n",
    "fig, ax = plt.subplots(1, 3, figsize=(15, 5))\n",
    "\n",
    "# Original data visualization\n",
    "sns.countplot(data=df, x='Color', ax=ax[0])\n",
    "ax[0].set_title('Original Categorical Data - Color')\n",
    "\n",
    "\n",
    "\n",
    "label_encoder.fit(df['Color'])\n",
    "# Label encoded data visualization\n",
    "sns.countplot(data=df, x='Color_Label', ax=ax[1])\n",
    "ax[1].set_title('Label Encoded Data - Color')\n",
    "ax[1].set_xticks(range(len(label_encoder.classes_)))\n",
    "ax[1].set_xticklabels(label_encoder.classes_)\n",
    "\n",
    "# One-hot encoded data visualization\n",
    "color_sum = color_encoded_df.sum()\n",
    "sns.barplot(x=color_sum.index, y=color_sum.values, ax=ax[2])\n",
    "ax[2].set_title('One-Hot Encoded Data - Color')\n",
    "\n",
    "plt.tight_layout()\n",
    "plt.show()"
   ]
  },
  {
   "cell_type": "code",
   "execution_count": 11,
   "id": "2c85964e-c20d-472a-9b99-82dc25cb53c2",
   "metadata": {},
   "outputs": [
    {
     "name": "stdout",
     "output_type": "stream",
     "text": [
      "Data with Label Encoding:\n",
      "   Color  Color_Label Size  Size_Label\n",
      "0    Red            2    S           2\n",
      "1   Blue            0    M           1\n",
      "2  Green            1    L           0\n",
      "3   Blue            0    L           0\n",
      "4    Red            2    M           1\n",
      "5  Green            1    S           2\n",
      "6  Green            1    S           2\n",
      "7   Blue            0    M           1\n",
      "8    Red            2    L           0\n",
      "9    Red            2    M           1\n",
      "\n",
      "Data with One-Hot Encoding:\n",
      "   Color Size  Color_L  Color_M  Color_S  Size_L  Size_M  Size_S\n",
      "0    Red    S      0.0      0.0      1.0     0.0     0.0     1.0\n",
      "1   Blue    M      1.0      0.0      0.0     0.0     1.0     0.0\n",
      "2  Green    L      0.0      1.0      0.0     1.0     0.0     0.0\n",
      "3   Blue    L      1.0      0.0      0.0     1.0     0.0     0.0\n",
      "4    Red    M      0.0      0.0      1.0     0.0     1.0     0.0\n",
      "5  Green    S      0.0      1.0      0.0     0.0     0.0     1.0\n",
      "6  Green    S      0.0      1.0      0.0     0.0     0.0     1.0\n",
      "7   Blue    M      1.0      0.0      0.0     0.0     1.0     0.0\n",
      "8    Red    L      0.0      0.0      1.0     1.0     0.0     0.0\n",
      "9    Red    M      0.0      0.0      1.0     0.0     1.0     0.0\n"
     ]
    }
   ],
   "source": [
    "print(\"Data with Label Encoding:\")\n",
    "print(df[['Color', 'Color_Label', 'Size', 'Size_Label']])\n",
    "\n",
    "print(\"\\nData with One-Hot Encoding:\")\n",
    "print(df_one_hot[['Color', 'Size'] + color_encoded_df.columns.tolist() + size_encoded_df.columns.tolist()])"
   ]
  },
  {
   "cell_type": "markdown",
   "id": "9f1f6753-3ddf-4c3a-a609-548b2d1db234",
   "metadata": {},
   "source": [
    "## Conclusion\r\n",
    "\r\n",
    "Categorical data encoding is an essential step in the data preprocessing workflow for machine learning. The two primary techniques, **Label Encoding** and **One-Hot Encoding**, offer different advantages and challenges.\r\n",
    "\r\n",
    "- **Label Encoding** is straightforward and space-efficient but may inadvertently introduce ordinal relationships among categories, which can mislead certain algorithms.\r\n",
    "- **One-Hot Encoding** avoids these ordinal relationships by representing each category with binary columns, though it can lead to high-dimensional feature spaces.\r\n",
    "\r\n",
    "Selecting the appropriate encoding method depends on the specific characteristics of the dataset and the requirements of the machine learning model being used. For models that assume or can handle ordinal relationships, label encoding might be sufficient. However, for most other scenarios, especially where categories are non-ordinal, one-hot encoding is preferred.\r\n",
    "\r\n",
    "By understanding and applying these encoding techniques effectively, you can improve the performance and accuracy of your machine learning models. The visualizations and examples provided in this guide should help clarify the impact of each method and guide you in making informed decisions when preprocessing categorical data.\r\n"
   ]
  }
 ],
 "metadata": {
  "kernelspec": {
   "display_name": "Python 3 (ipykernel)",
   "language": "python",
   "name": "python3"
  },
  "language_info": {
   "codemirror_mode": {
    "name": "ipython",
    "version": 3
   },
   "file_extension": ".py",
   "mimetype": "text/x-python",
   "name": "python",
   "nbconvert_exporter": "python",
   "pygments_lexer": "ipython3",
   "version": "3.12.0"
  }
 },
 "nbformat": 4,
 "nbformat_minor": 5
}
