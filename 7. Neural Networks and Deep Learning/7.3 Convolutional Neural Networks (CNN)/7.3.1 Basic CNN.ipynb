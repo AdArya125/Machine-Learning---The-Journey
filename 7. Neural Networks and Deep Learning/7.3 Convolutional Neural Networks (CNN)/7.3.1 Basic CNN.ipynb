{
 "cells": [
  {
   "cell_type": "markdown",
   "id": "9f18938e-6645-4ea6-b501-9aeae8620520",
   "metadata": {},
   "source": [
    "# 7.3.1 Basic CNN\n",
    "\n",
    "## Explanation of Basic CNN Architectures\n",
    "Convolutional Neural Networks (CNNs) are a class of deep learning models specifically designed for processing structured grid data, such as images. A basic CNN architecture consists of several layers, including convolutional layers, pooling layers, and fully connected layers.\n",
    "\n",
    "1. **Convolutional Layer**: This layer applies a set of filters to the input image, creating feature maps that capture various features such as edges, textures, and patterns. The filters slide over the image, performing convolution operations, and the resulting feature maps are passed to the next layer.\n",
    "\n",
    "2. **Activation Function**: Typically, the Rectified Linear Unit (ReLU) function is applied to the output of the convolutional layer to introduce non-linearity. This helps the network learn more complex patterns.\n",
    "\n",
    "3. **Pooling Layer**: This layer performs down-sampling operations, such as max pooling, to reduce the spatial dimensions of the feature maps. This helps in reducing the computational complexity and makes the network more robust to small translations in the input.\n",
    "\n",
    "4. **Fully Connected Layer**: After several convolutional and pooling layers, the high-level feature maps are flattened into a vector and passed through one or more fully connected layers. These layers perform classification based on the extracted features.\n",
    "\n",
    "5. **Output Layer**: The final layer typically uses a softmax activation function to output class probabilities for classification tasks."
   ]
  },
  {
   "cell_type": "markdown",
   "id": "244f4d77-4d29-478e-b84b-a42e43d4a580",
   "metadata": {},
   "source": [
    "___\n",
    "___\n",
    "### Readings:\n",
    "- [A Basic Introduction to Convolutional Neural Network](https://medium.com/@himadrisankarchatterjee/a-basic-introduction-to-convolutional-neural-network-8e39019b27c4)\n",
    "- [Basics of the Classic CNN](https://towardsdatascience.com/basics-of-the-classic-cnn-a3dce1225add)\n",
    "- [A Simple CNN Model Beginner Guide - Kaggle](https://www.kaggle.com/code/pavansanagapati/a-simple-cnn-model-beginner-guide)\n",
    "- [Convolutional Neural Networks (CNNs / ConvNets)](https://cs231n.github.io/convolutional-networks/)\n",
    "- [Basics of CNN in Deep Learning](https://www.analyticsvidhya.com/blog/2022/03/basics-of-cnn-in-deep-learning/)\n",
    "- [Gentle Dive into Math Behind Convolutional Neural Networks](https://towardsdatascience.com/gentle-dive-into-math-behind-convolutional-neural-networks-79a07dd44cf9)\n",
    "- [Demystifying the Mathematics Behind Convolutional Neural Networks (CNNs)](https://www.analyticsvidhya.com/blog/2020/02/mathematics-behind-convolutional-neural-network/)\n",
    "- [Convolutional Neural Network in plain NumPy](https://towardsdatascience.com/lets-code-convolutional-neural-network-in-plain-numpy-ce48e732f5d5)\n",
    "___\n",
    "___"
   ]
  },
  {
   "cell_type": "markdown",
   "id": "97803f42-8c26-425e-bd8c-8c9d18a09d96",
   "metadata": {},
   "source": [
    "## Applications of CNNs in Various Domains\n",
    "CNNs are widely used in various domains due to their effectiveness in capturing spatial hierarchies in data. Some notable applications include:\n",
    "- **Image Classification**: Classifying objects within images (e.g., identifying different species of animals).\n",
    "- **Object Detection**: Detecting and localizing objects within images (e.g., autonomous driving).\n",
    "- **Semantic Segmentation**: Classifying each pixel in an image (e.g., medical imaging for tumor detection).\n",
    "- **Natural Language Processing**: Sentence classification, language translation, and sentiment analysis.\n",
    "- **Video Analysis**: Action recognition and video classification.\n",
    "\n",
    "## Methods for Implementing Basic CNNs\n",
    "Implementing a basic CNN can be done using various deep learning libraries such as TensorFlow, Keras, and PyTorch. These libraries provide high-level APIs to define, train, and evaluate CNN models with minimal code. Here, we will demonstrate the implementation of a basic CNN using TensorFlow/Keras."
   ]
  },
  {
   "cell_type": "markdown",
   "id": "3ac15108-7020-4933-8eb4-594950954fe7",
   "metadata": {},
   "source": [
    "- ### Preparing the data"
   ]
  },
  {
   "cell_type": "code",
   "execution_count": 1,
   "id": "685effe3-6293-4a50-ab3f-a8c1062b3f83",
   "metadata": {},
   "outputs": [
    {
     "name": "stdout",
     "output_type": "stream",
     "text": [
      "Shape of X_train : (60000, 28, 28, 1)\n",
      "Shape of X_test : (10000, 28, 28, 1)\n"
     ]
    }
   ],
   "source": [
    "from keras.datasets import mnist\n",
    "from keras.utils import to_categorical\n",
    "\n",
    "(X_train, y_train), (X_test, y_test) = mnist.load_data()\n",
    "\n",
    "# Reshape the data to include the channel dimension\n",
    "X_train = X_train.reshape(-1, 28, 28, 1).astype('float32') / 255.0\n",
    "X_test = X_test.reshape(-1, 28, 28, 1).astype('float32') / 255.0\n",
    "print(\"Shape of X_train :\",X_train.shape)\n",
    "print(\"Shape of X_test :\",X_test.shape)\n",
    "# One-hot encode the labels\n",
    "y_train = to_categorical(y_train, 10)\n",
    "y_test = to_categorical(y_test, 10)"
   ]
  },
  {
   "cell_type": "markdown",
   "id": "e0981fd3-925a-4df5-b29a-c303b7e7d0a3",
   "metadata": {},
   "source": [
    "- ### Define the CNN model"
   ]
  },
  {
   "cell_type": "code",
   "execution_count": 2,
   "id": "d6c977fd-397d-4ef1-9274-f8baefec26b2",
   "metadata": {},
   "outputs": [],
   "source": [
    "from keras.models import Sequential\n",
    "from keras.layers import Conv2D, MaxPooling2D, Flatten, Dense, Dropout, Input\n",
    "\n",
    "model = Sequential([\n",
    "    Input(shape=(28, 28, 1)),\n",
    "    Conv2D(32, (3, 3), activation='relu', padding='same'),\n",
    "    MaxPooling2D((2, 2)),\n",
    "    Conv2D(64, (3, 3), activation='relu', padding='same'),\n",
    "    MaxPooling2D((2, 2)),\n",
    "    Conv2D(128, (3, 3), activation='relu', padding='same'),\n",
    "    MaxPooling2D((2, 2)),\n",
    "    Flatten(),\n",
    "    Dense(128, activation='relu'),\n",
    "    Dropout(0.5),\n",
    "    Dense(10, activation='softmax')\n",
    "])"
   ]
  },
  {
   "cell_type": "markdown",
   "id": "7a4a696d-fa0e-41cf-8667-a74746b30342",
   "metadata": {},
   "source": [
    "- ### Compile, Train and Evaluate the CNN model"
   ]
  },
  {
   "cell_type": "code",
   "execution_count": 3,
   "id": "9d169d55-2d05-462d-b7a3-916ce02a21bb",
   "metadata": {},
   "outputs": [
    {
     "name": "stdout",
     "output_type": "stream",
     "text": [
      "Epoch 1/10\n",
      "\u001b[1m938/938\u001b[0m \u001b[32m━━━━━━━━━━━━━━━━━━━━\u001b[0m\u001b[37m\u001b[0m \u001b[1m27s\u001b[0m 27ms/step - accuracy: 0.8162 - loss: 0.5584 - val_accuracy: 0.9846 - val_loss: 0.0501\n",
      "Epoch 2/10\n",
      "\u001b[1m938/938\u001b[0m \u001b[32m━━━━━━━━━━━━━━━━━━━━\u001b[0m\u001b[37m\u001b[0m \u001b[1m28s\u001b[0m 30ms/step - accuracy: 0.9771 - loss: 0.0774 - val_accuracy: 0.9900 - val_loss: 0.0301\n",
      "Epoch 3/10\n",
      "\u001b[1m938/938\u001b[0m \u001b[32m━━━━━━━━━━━━━━━━━━━━\u001b[0m\u001b[37m\u001b[0m \u001b[1m26s\u001b[0m 28ms/step - accuracy: 0.9844 - loss: 0.0514 - val_accuracy: 0.9886 - val_loss: 0.0344\n",
      "Epoch 4/10\n",
      "\u001b[1m938/938\u001b[0m \u001b[32m━━━━━━━━━━━━━━━━━━━━\u001b[0m\u001b[37m\u001b[0m \u001b[1m27s\u001b[0m 29ms/step - accuracy: 0.9873 - loss: 0.0421 - val_accuracy: 0.9887 - val_loss: 0.0341\n",
      "Epoch 5/10\n",
      "\u001b[1m938/938\u001b[0m \u001b[32m━━━━━━━━━━━━━━━━━━━━\u001b[0m\u001b[37m\u001b[0m \u001b[1m27s\u001b[0m 29ms/step - accuracy: 0.9888 - loss: 0.0376 - val_accuracy: 0.9939 - val_loss: 0.0200\n",
      "Epoch 6/10\n",
      "\u001b[1m938/938\u001b[0m \u001b[32m━━━━━━━━━━━━━━━━━━━━\u001b[0m\u001b[37m\u001b[0m \u001b[1m27s\u001b[0m 28ms/step - accuracy: 0.9915 - loss: 0.0286 - val_accuracy: 0.9941 - val_loss: 0.0204\n",
      "Epoch 7/10\n",
      "\u001b[1m938/938\u001b[0m \u001b[32m━━━━━━━━━━━━━━━━━━━━\u001b[0m\u001b[37m\u001b[0m \u001b[1m28s\u001b[0m 30ms/step - accuracy: 0.9929 - loss: 0.0237 - val_accuracy: 0.9923 - val_loss: 0.0243\n",
      "Epoch 8/10\n",
      "\u001b[1m938/938\u001b[0m \u001b[32m━━━━━━━━━━━━━━━━━━━━\u001b[0m\u001b[37m\u001b[0m \u001b[1m28s\u001b[0m 30ms/step - accuracy: 0.9938 - loss: 0.0213 - val_accuracy: 0.9926 - val_loss: 0.0248\n",
      "Epoch 9/10\n",
      "\u001b[1m938/938\u001b[0m \u001b[32m━━━━━━━━━━━━━━━━━━━━\u001b[0m\u001b[37m\u001b[0m \u001b[1m39s\u001b[0m 28ms/step - accuracy: 0.9946 - loss: 0.0168 - val_accuracy: 0.9927 - val_loss: 0.0298\n",
      "Epoch 10/10\n",
      "\u001b[1m938/938\u001b[0m \u001b[32m━━━━━━━━━━━━━━━━━━━━\u001b[0m\u001b[37m\u001b[0m \u001b[1m26s\u001b[0m 28ms/step - accuracy: 0.9951 - loss: 0.0153 - val_accuracy: 0.9932 - val_loss: 0.0232\n",
      "\u001b[1m313/313\u001b[0m \u001b[32m━━━━━━━━━━━━━━━━━━━━\u001b[0m\u001b[37m\u001b[0m \u001b[1m3s\u001b[0m 8ms/step - accuracy: 0.9911 - loss: 0.0296\n",
      "Test Accuracy: 0.99\n"
     ]
    }
   ],
   "source": [
    "# Compile the model\n",
    "model.compile(optimizer='adam', loss='categorical_crossentropy', metrics=['accuracy'])\n",
    "\n",
    "# Train the model\n",
    "model.fit(X_train, y_train, epochs=10, batch_size=64, validation_data=(X_test, y_test))\n",
    "\n",
    "# Evaluate the model on the test set\n",
    "test_loss, test_accuracy = model.evaluate(X_test, y_test)\n",
    "print(f'Test Accuracy: {test_accuracy:.2f}')"
   ]
  },
  {
   "cell_type": "code",
   "execution_count": 4,
   "id": "6f5c0501-b879-425d-913b-72f9a4bb8ec8",
   "metadata": {},
   "outputs": [
    {
     "name": "stdout",
     "output_type": "stream",
     "text": [
      "\u001b[1m313/313\u001b[0m \u001b[32m━━━━━━━━━━━━━━━━━━━━\u001b[0m\u001b[37m\u001b[0m \u001b[1m2s\u001b[0m 7ms/step\n"
     ]
    }
   ],
   "source": [
    "# Make predictions on the test set\n",
    "predictions = model.predict(X_test)"
   ]
  },
  {
   "cell_type": "markdown",
   "id": "6c813020-c757-4a37-901e-3cef4c873c50",
   "metadata": {},
   "source": [
    "- ### Visualise the results of the CNN model"
   ]
  },
  {
   "cell_type": "code",
   "execution_count": 5,
   "id": "a0c47c4e-26c1-42b4-aba8-e10502fe9d63",
   "metadata": {},
   "outputs": [
    {
     "data": {
      "image/png": "[encoded data removed]",
      "text/plain": [
       "<Figure size 1500x500 with 5 Axes>"
      ]
     },
     "metadata": {},
     "output_type": "display_data"
    }
   ],
   "source": [
    "# Display some predictions with actual images\n",
    "import numpy as np\n",
    "import matplotlib.pyplot as plt\n",
    "\n",
    "# Map numeric labels to class names (for MNIST, they are just the digits 0-9)\n",
    "class_names = [str(i) for i in range(10)]\n",
    "\n",
    "# Select a few random test images\n",
    "num_images = 5\n",
    "random_indices = np.random.choice(len(X_test), num_images, replace=False)\n",
    "random_images = X_test[random_indices]\n",
    "random_labels = y_test[random_indices]\n",
    "random_predictions = predictions[random_indices]\n",
    "\n",
    "# Plot the selected test images with their actual and predicted labels\n",
    "plt.figure(figsize=(15, 5))\n",
    "for i in range(num_images):\n",
    "    plt.subplot(1, num_images, i+1)\n",
    "    plt.imshow(random_images[i].reshape(28, 28), cmap='gray')\n",
    "    actual_label = class_names[np.argmax(random_labels[i])]\n",
    "    predicted_label = class_names[np.argmax(random_predictions[i])]\n",
    "    plt.title(f'Actual: {actual_label}\\nPredicted: {predicted_label}')\n",
    "    plt.axis('off')\n",
    "plt.show()"
   ]
  },
  {
   "cell_type": "markdown",
   "id": "cfef990a-f7e6-427b-b44e-5599143fa70e",
   "metadata": {},
   "source": [
    "## Conclusion\r\n",
    "\r\n",
    "In this section, we explored the fundamentals of Convolutional Neural Networks (CNNs), including their architecture and common components such as convolutional layers, activation functions, pooling layers, fully connected layers, and output layers. We also discussed the diverse applications of CNNs across various domains, highlighting their effectiveness in tasks such as image classification, object detection, semantic segmentation, natural language processing, and video analysis. By understanding the basic structure and functionality of CNNs, we can better appreciate their power and versatility in solving complex problems. In the following sections, we will delve deeper into advanced CNN architectures and their specific implementations.\r\n"
   ]
  }
 ],
 "metadata": {
  "kernelspec": {
   "display_name": "Python 3 (ipykernel)",
   "language": "python",
   "name": "python3"
  },
  "language_info": {
   "codemirror_mode": {
    "name": "ipython",
    "version": 3
   },
   "file_extension": ".py",
   "mimetype": "text/x-python",
   "name": "python",
   "nbconvert_exporter": "python",
   "pygments_lexer": "ipython3",
   "version": "3.12.0"
  }
 },
 "nbformat": 4,
 "nbformat_minor": 5
}
