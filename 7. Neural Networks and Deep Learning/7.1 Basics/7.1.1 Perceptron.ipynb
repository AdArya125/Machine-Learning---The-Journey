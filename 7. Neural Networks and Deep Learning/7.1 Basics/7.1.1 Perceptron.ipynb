{
 "cells": [
  {
   "cell_type": "markdown",
   "id": "39582564-e3de-4a9d-8913-29aae89ba0d2",
   "metadata": {},
   "source": [
    "# 7.1.1 Perceptron\n",
    "\n",
    "## Introduction\n",
    "\n",
    "The perceptron is the simplest type of artificial neural network, developed by Frank Rosenblatt in 1957. It is a linear classifier that makes its predictions based on a linear predictor function combining a set of weights with the feature vector. The perceptron algorithm updates these weights based on the error in the prediction, which helps it to learn from the data.\n",
    "\n",
    "## Algorithm\n",
    "\n",
    "1. **Initialization**: \n",
    "    - Initialize the weights and bias to small random numbers or zeros.\n",
    "    - Choose a learning rate $\\alpha$.\n",
    "\n",
    "2. **Prediction**:\n",
    "    - For each input vector $ \\mathbf{x} $, compute the weighted sum:\n",
    "    $$\n",
    "    y = \\mathbf{w} \\cdot \\mathbf{x} + b\n",
    "    $$\n",
    "    - Apply the activation function (usually a step function):\n",
    "    $$\n",
    "    \\hat{y} = \\begin{cases} \n",
    "    1 & \\text{if } y \\ge 0 \\\\\n",
    "    0 & \\text{if } y < 0 \n",
    "    \\end{cases}\n",
    "    $$\n",
    "\n",
    "3. **Update**:\n",
    "    - For each misclassified sample, update the weights and bias:\n",
    "    $$\n",
    "    \\mathbf{w} = \\mathbf{w} + \\alpha (y - \\hat{y}) \\mathbf{x}\n",
    "    $$\n",
    "    $$\n",
    "    b = b + \\alpha (y - \\hat{y})\n",
    "    $$\n",
    "\n",
    "4. **Repeat**:\n",
    "    - Repeat steps 2 and 3 until convergence or for a fixed number of epochs."
   ]
  },
  {
   "cell_type": "markdown",
   "id": "da5fb122-f1c7-495b-87fd-4263a7c1d744",
   "metadata": {},
   "source": [
    "___\n",
    "___\n",
    "### Readings:\n",
    "- [Perceptrons: The First Neural Network Model](https://readmedium.com/en/https:/medium.com/towards-data-science/perceptrons-the-first-neural-network-model-8b3ee4513757)\n",
    "- [Perceptron Learning Algorithm: A Graphical Explanation Of Why It Works](https://towardsdatascience.com/perceptron-learning-algorithm-d5db0deab975)\n",
    "- [difference between a Perceptron, Adaline, and neural network model](https://sebastianraschka.com/faq/docs/diff-perceptron-adaline-neuralnet.html)\n",
    "\n",
    "___\n",
    "___"
   ]
  },
  {
   "cell_type": "markdown",
   "id": "f346990a-ed20-49a5-a58c-f3adfb70b0b3",
   "metadata": {},
   "source": [
    "## Applications and Limitations\n",
    "\n",
    "**Applications**:\n",
    "- Binary classification tasks such as spam detection, image recognition (with simple datasets), and sentiment analysis.\n",
    "- Basis for more complex neural network architectures.\n",
    "\n",
    "**Limitations**:\n",
    "- Can only solve linearly separable problems.\n",
    "- Does not perform well on complex datasets with non-linear decision boundaries."
   ]
  },
  {
   "cell_type": "code",
   "execution_count": 1,
   "id": "72a3c167-ad17-4cc8-b2f0-484cb85ba293",
   "metadata": {},
   "outputs": [],
   "source": [
    "import numpy as np"
   ]
  },
  {
   "cell_type": "code",
   "execution_count": 2,
   "id": "e241fcf3-0e10-47ed-8c55-bde3770f8e81",
   "metadata": {},
   "outputs": [],
   "source": [
    "# Making the perceptron class\n",
    "class Perceptron:\n",
    "    def __init__(self, learning_rate=0.1, epochs=1000):\n",
    "        self.learning_rate = learning_rate\n",
    "        self.epochs = epochs\n",
    "        self.weights = None\n",
    "        self.bias = None\n",
    "    \n",
    "    def activation_function(self, x):\n",
    "        return np.where(x >= 0, 1, 0)\n",
    "    \n",
    "    def fit(self, X, y):\n",
    "        n_samples, n_features = X.shape\n",
    "        self.weights = np.zeros(n_features)\n",
    "        self.bias = 0\n",
    "        \n",
    "        for _ in range(self.epochs):\n",
    "            for idx, x_i in enumerate(X):\n",
    "                linear_output = np.dot(x_i, self.weights) + self.bias\n",
    "                y_predicted = self.activation_function(linear_output)\n",
    "                \n",
    "                update = self.learning_rate * (y[idx] - y_predicted)\n",
    "                self.weights += update * x_i\n",
    "                self.bias += update\n",
    "    \n",
    "    def predict(self, X):\n",
    "        linear_output = np.dot(X, self.weights) + self.bias\n",
    "        y_predicted = self.activation_function(linear_output)\n",
    "        return y_predicted"
   ]
  },
  {
   "cell_type": "code",
   "execution_count": 3,
   "id": "f4a719fc-b5bf-47f5-b161-1694b9f042b2",
   "metadata": {},
   "outputs": [],
   "source": [
    "import matplotlib.pyplot as plt\n",
    "# Function to show the decision boundary\n",
    "def plot_decision_boundary(X, y, model, title):\n",
    "    x_min, x_max = X[:, 0].min() - 1, X[:, 0].max() + 1\n",
    "    y_min, y_max = X[:, 1].min() - 1, X[:, 1].max() + 1\n",
    "    xx, yy = np.meshgrid(np.arange(x_min, x_max, 0.01),\n",
    "                         np.arange(y_min, y_max, 0.01))\n",
    "    Z = model.predict(np.c_[xx.ravel(), yy.ravel()])\n",
    "    Z = Z.reshape(xx.shape)\n",
    "    \n",
    "    plt.contourf(xx, yy, Z, alpha=0.8)\n",
    "    plt.scatter(X[:, 0], X[:, 1], c=y, edgecolors='k', marker='o')\n",
    "    plt.xlim(xx.min(), xx.max())\n",
    "    plt.ylim(yy.min(), yy.max())\n",
    "    plt.title(title)\n",
    "    plt.xlabel('Feature 1')\n",
    "    plt.ylabel('Feature 2')\n",
    "    plt.show()"
   ]
  },
  {
   "cell_type": "markdown",
   "id": "3a901e3b-e421-46fc-9b03-5e55cf1fde4c",
   "metadata": {},
   "source": [
    "### AND Logic with Perceptron"
   ]
  },
  {
   "cell_type": "code",
   "execution_count": 4,
   "id": "f7afe076-7ceb-4fff-9df2-48b778066973",
   "metadata": {},
   "outputs": [],
   "source": [
    "# AND logic gate data\n",
    "X_and = np.array([[0, 0], [0, 1], [1, 0], [1, 1]])\n",
    "y_and = np.array([0, 0, 0, 1])"
   ]
  },
  {
   "cell_type": "code",
   "execution_count": 5,
   "id": "b7a26976-9dd4-4720-a9ef-18248c5534de",
   "metadata": {},
   "outputs": [],
   "source": [
    "# Create perceptron models\n",
    "perceptron_and = Perceptron(learning_rate=0.1, epochs=10)\n",
    "# Train the models\n",
    "perceptron_and.fit(X_and, y_and)"
   ]
  },
  {
   "cell_type": "code",
   "execution_count": 6,
   "id": "1abfbc11-e58f-47ff-ba3e-3ad53c6ecd74",
   "metadata": {},
   "outputs": [],
   "source": [
    "# Make predictions\n",
    "y_pred_and = perceptron_and.predict(X_and)"
   ]
  },
  {
   "cell_type": "code",
   "execution_count": 7,
   "id": "3fb238b9-4781-4c26-99bd-5da1296582de",
   "metadata": {},
   "outputs": [
    {
     "name": "stdout",
     "output_type": "stream",
     "text": [
      "AND logic gate predictions: [0 0 0 1]\n"
     ]
    }
   ],
   "source": [
    "print(f\"AND logic gate predictions: {y_pred_and}\")"
   ]
  },
  {
   "cell_type": "code",
   "execution_count": 8,
   "id": "53ad106d-2df2-488a-9d46-6d0a0ce3acfa",
   "metadata": {},
   "outputs": [
    {
     "data": {
      "image/png": "[encoded data removed]",
      "text/plain": [
       "<Figure size 640x480 with 1 Axes>"
      ]
     },
     "metadata": {},
     "output_type": "display_data"
    }
   ],
   "source": [
    "# Plot decision boundary for AND gate\n",
    "plot_decision_boundary(X_and, y_and, perceptron_and, 'AND Gate')"
   ]
  },
  {
   "cell_type": "markdown",
   "id": "c2dfcd28-b978-43b5-a977-946ccdb71520",
   "metadata": {},
   "source": [
    "### OR Logic with Perceptron"
   ]
  },
  {
   "cell_type": "code",
   "execution_count": 9,
   "id": "4d2f39c2-19cd-4887-a788-38cb4855c9f8",
   "metadata": {},
   "outputs": [],
   "source": [
    "# OR logic gate data\n",
    "X_or = np.array([[0, 0], [0, 1], [1, 0], [1, 1]])\n",
    "y_or = np.array([0, 1, 1, 1])"
   ]
  },
  {
   "cell_type": "code",
   "execution_count": 10,
   "id": "fc2b37f4-b262-4315-a1b5-e582d4aa25fd",
   "metadata": {},
   "outputs": [],
   "source": [
    "perceptron_or = Perceptron(learning_rate=0.1, epochs=10)\n",
    "perceptron_or.fit(X_or, y_or)"
   ]
  },
  {
   "cell_type": "code",
   "execution_count": 11,
   "id": "1ee35ca7-e1d9-4c09-995e-4e6fa1f2148e",
   "metadata": {},
   "outputs": [],
   "source": [
    "y_pred_or = perceptron_or.predict(X_or)"
   ]
  },
  {
   "cell_type": "code",
   "execution_count": 12,
   "id": "988057a3-bd0d-4750-b456-487c89a6c690",
   "metadata": {},
   "outputs": [
    {
     "name": "stdout",
     "output_type": "stream",
     "text": [
      "OR logic gate predictions: [0 1 1 1]\n"
     ]
    }
   ],
   "source": [
    "print(f\"OR logic gate predictions: {y_pred_or}\")"
   ]
  },
  {
   "cell_type": "code",
   "execution_count": 13,
   "id": "b75cdec6-0565-4444-8405-03fccc7902e2",
   "metadata": {},
   "outputs": [
    {
     "data": {
      "image/png": "[encoded data removed]",
      "text/plain": [
       "<Figure size 640x480 with 1 Axes>"
      ]
     },
     "metadata": {},
     "output_type": "display_data"
    }
   ],
   "source": [
    "# Plot decision boundary for OR gate\n",
    "plot_decision_boundary(X_or, y_or, perceptron_or, 'OR Gate')"
   ]
  },
  {
   "cell_type": "markdown",
   "id": "f1d67a66-94bb-4818-83dc-21d6ff20b869",
   "metadata": {},
   "source": [
    "### Non linear Classification: XOR logic"
   ]
  },
  {
   "cell_type": "code",
   "execution_count": 14,
   "id": "934fa69d-bd31-434b-aaf1-05022d4f3284",
   "metadata": {},
   "outputs": [],
   "source": [
    "# XOR gate\n",
    "X_xor = np.array([[0, 0], [0, 1], [1, 0], [1, 1]])\n",
    "y_xor = np.array([0, 1, 1, 0])"
   ]
  },
  {
   "cell_type": "code",
   "execution_count": 15,
   "id": "855a278f-3194-4d7c-8bbd-b309cd41126e",
   "metadata": {},
   "outputs": [],
   "source": [
    "perceptron_xor = Perceptron(learning_rate=0.1, epochs=10)\n",
    "perceptron_xor.fit(X_xor, y_xor)"
   ]
  },
  {
   "cell_type": "code",
   "execution_count": 16,
   "id": "70e11a07-04df-47d6-a3a9-ea6c92996365",
   "metadata": {},
   "outputs": [
    {
     "data": {
      "image/png": "[encoded data removed]",
      "text/plain": [
       "<Figure size 640x480 with 1 Axes>"
      ]
     },
     "metadata": {},
     "output_type": "display_data"
    }
   ],
   "source": [
    "plot_decision_boundary(X_xor, y_xor, perceptron_xor, 'XOR Gate')"
   ]
  },
  {
   "cell_type": "markdown",
   "id": "7d8ca843-ddaa-4d81-83f6-b434465d92a6",
   "metadata": {},
   "source": [
    "## Conclusion\n",
    "\n",
    "The perceptron is an effective linear classifier for simple binary classification tasks where the data is linearly separable. However, it struggles with non-linearly separable problems, such as the XOR problem, due to its inability to create non-linear decision boundaries. This limitation highlights the need for more advanced models like multi-layer perceptrons (MLPs) or other neural network architectures that can handle complex data patterns.\n"
   ]
  }
 ],
 "metadata": {
  "kernelspec": {
   "display_name": "Python 3 (ipykernel)",
   "language": "python",
   "name": "python3"
  },
  "language_info": {
   "codemirror_mode": {
    "name": "ipython",
    "version": 3
   },
   "file_extension": ".py",
   "mimetype": "text/x-python",
   "name": "python",
   "nbconvert_exporter": "python",
   "pygments_lexer": "ipython3",
   "version": "3.12.0"
  }
 },
 "nbformat": 4,
 "nbformat_minor": 5
}
