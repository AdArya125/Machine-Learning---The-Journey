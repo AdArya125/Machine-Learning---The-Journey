{
 "cells": [
  {
   "cell_type": "markdown",
   "id": "36e9e788-7661-413c-bc92-5c22da5325f5",
   "metadata": {},
   "source": [
    "# 7.1.2 Feedforward Neural Network\n",
    "\n",
    "## Explanation of Feedforward Neural Networks\n",
    "\n",
    "A **Feedforward Neural Network (FNN)**, also known as a **Multi-Layer Perceptron (MLP)**, is a type of artificial neural network where the connections between the nodes do not form a cycle. It is the simplest form of artificial neural network used for both classification and regression tasks. An FNN consists of an input layer, one or more hidden layers, and an output layer. Each layer is fully connected to the next layer.\n",
    "\n",
    "The operation of an FNN can be described in the following steps:\n",
    "\n",
    "1. **Input Layer**: Receives the input data.\n",
    "2. **Hidden Layers**: Perform computations and transfer the results to the next layer. Each neuron in a hidden layer applies a non-linear activation function to the weighted sum of its inputs.\n",
    "3. **Output Layer**: Produces the final prediction.\n",
    "\n",
    "The mathematical representation of an FNN is:\n",
    "\n",
    "$$\n",
    "y = f(W_k f(W_{k-1} ... f(W_2 f(W_1 x + b_1) + b_2) ... + b_{k-1}) + b_k)\n",
    "$$\n",
    "\n",
    "where $ x $ is the input vector, $ W^i $ and $ b^i $ are the weights and biases of the $ i $-th layer, and $ f $ is the activation function.\n",
    "\n",
    "Common activation functions include:\n",
    "\n",
    "- **Sigmoid**: $ \\sigma(x) = \\frac{1}{1 + e^{-x}} $\n",
    "- **ReLU (Rectified Linear Unit)**: $ \\text{ReLU}(x) = \\max(0, x) $\n",
    "- **Tanh**: $ \\tanh(x) = \\frac{e^x - e^{-x}}{e^x + e^{-x}} $\n",
    "\n",
    "### Forward Propagation\n",
    "\n",
    "In forward propagation, the input data passes through each layer of the network. The operations performed at each layer can be described as:\n",
    "\n",
    "$$\n",
    "Z^{[l]} = W^{[l]} A^{[l-1]} + b^{[l]}\n",
    "$$\n",
    "\n",
    "$$\n",
    "A^{[l]} = g(Z^{[l]})\n",
    "$$\n",
    "\n",
    "Where:\n",
    "- $ Z^{[l]} $ is the linear transformation of the input at layer $ l $.\n",
    "- $ W^{[l]} $ is the weight matrix for layer $ l $.\n",
    "- $ A^{[l-1]} $ is the activation from the previous layer.\n",
    "- $ b^{[l]} $ is the bias vector for layer $ l $.\n",
    "- $ g $ is the activation function (e.g., ReLU, Sigmoid).\n",
    "\n",
    "### Backward Propagation\n",
    "\n",
    "Backward propagation involves calculating the gradient of the loss function with respect to each parameter in the network. This process uses the chain rule of calculus to efficiently compute the gradients.\n",
    "\n",
    "## Benefits and Use Cases of Feedforward Neural Networks\n",
    "\n",
    "**Benefits**:\n",
    "- Ability to model complex relationships in data.\n",
    "- Flexibility to handle both regression and classification tasks.\n",
    "- Capability to approximate any continuous function given sufficient hidden layers and neurons.\n",
    "\n",
    "**Use Cases**:\n",
    "- Image and speech recognition.\n",
    "- Natural language processing.\n",
    "- Financial prediction and fraud detection.\n",
    "- Medical diagnosis.\n"
   ]
  },
  {
   "cell_type": "markdown",
   "id": "2592b63d-c798-4dcd-897d-f622056a58c9",
   "metadata": {},
   "source": [
    "___\n",
    "___\n",
    "### Readings:\n",
    "- [Multi-Layer Perceptron vs. Deep Neural Network](https://www.baeldung.com/cs/mlp-vs-dnn)\n",
    "- [Multilayer Perceptron Explained with a Real-Life Example and Python Code: Sentiment Analysis](https://towardsdatascience.com/multilayer-perceptron-explained-with-a-real-life-example-and-python-code-sentiment-analysis-cb408ee93141)\n",
    "- [Deep Neural Network, Multilayer Perceptron, and Deep Q-Network](https://www.turing.com/kb/explanation-of-deep-neural-network-multilayer-perceptron-deep-q-network#multilayer-perceptron)\n",
    "- [The Multilayer Perceptron](https://com-cog-book.github.io/com-cog-book/features/multilayer-perceptron.html)\n",
    "- [Crash Course on Multi-Layer Perceptron Neural Networks](https://machinelearningmastery.com/neural-networks-crash-course/)\n",
    "\n",
    "___\n",
    "___"
   ]
  },
  {
   "cell_type": "markdown",
   "id": "05cb0e52-9707-45f0-9d04-7f95e86c0dae",
   "metadata": {},
   "source": [
    "### Implementation from Scratch"
   ]
  },
  {
   "cell_type": "code",
   "execution_count": 1,
   "id": "fb4d4dd2-264a-4345-bef9-1a0449663fd8",
   "metadata": {},
   "outputs": [],
   "source": [
    "import numpy as np\n",
    "import matplotlib.pyplot as plt\n",
    "from sklearn.datasets import load_iris\n",
    "from sklearn.model_selection import train_test_split\n",
    "from sklearn.preprocessing import StandardScaler\n",
    "from sklearn.decomposition import PCA"
   ]
  },
  {
   "cell_type": "code",
   "execution_count": 2,
   "id": "a5ae1a68-bc99-4222-8e19-8ee0abaa56b2",
   "metadata": {},
   "outputs": [],
   "source": [
    "class MLP:\n",
    "    def __init__(self, layers, learning_rate=0.01, epochs=1000):\n",
    "        self.layers = layers\n",
    "        self.learning_rate = learning_rate\n",
    "        self.epochs = epochs\n",
    "        self.params = self.initialize_weights()\n",
    "\n",
    "    def initialize_weights(self):\n",
    "        np.random.seed(42)\n",
    "        params = {}\n",
    "        for i in range(1, len(self.layers)):\n",
    "            params['W' + str(i)] = np.random.randn(self.layers[i-1], self.layers[i]) * 0.01\n",
    "            params['b' + str(i)] = np.zeros((1, self.layers[i]))\n",
    "        return params\n",
    "\n",
    "    def relu(self, Z):\n",
    "        return np.maximum(0, Z)\n",
    "\n",
    "    def sigmoid(self, Z):\n",
    "        return 1 / (1 + np.exp(-Z))\n",
    "\n",
    "    def relu_derivative(self, Z):\n",
    "        return Z > 0\n",
    "\n",
    "    def sigmoid_derivative(self, Z):\n",
    "        return Z * (1 - Z)\n",
    "\n",
    "    def forward_propagation(self, X):\n",
    "        cache = {'A0': X}\n",
    "        A = X\n",
    "        for i in range(1, len(self.layers)):\n",
    "            Z = np.dot(A, self.params['W' + str(i)]) + self.params['b' + str(i)]\n",
    "            A = self.relu(Z) if i < len(self.layers) - 1 else self.sigmoid(Z)\n",
    "            cache['Z' + str(i)] = Z\n",
    "            cache['A' + str(i)] = A\n",
    "        return cache\n",
    "\n",
    "    def backward_propagation(self, cache, Y):\n",
    "        grads = {}\n",
    "        L = len(self.layers) - 1\n",
    "        m = Y.shape[0]\n",
    "        Y = Y.reshape(cache['A' + str(L)].shape)\n",
    "        dA = -(np.divide(Y, cache['A' + str(L)]) - np.divide(1 - Y, 1 - cache['A' + str(L)]))\n",
    "\n",
    "        for i in reversed(range(1, L + 1)):\n",
    "            dZ = dA * (self.sigmoid_derivative(cache['A' + str(i)]) if i == L else self.relu_derivative(cache['Z' + str(i)]))\n",
    "            grads['dW' + str(i)] = np.dot(cache['A' + str(i-1)].T, dZ) / m\n",
    "            grads['db' + str(i)] = np.sum(dZ, axis=0, keepdims=True) / m\n",
    "            dA = np.dot(dZ, self.params['W' + str(i)].T)\n",
    "        return grads\n",
    "\n",
    "    def update_parameters(self, grads):\n",
    "        for i in range(1, len(self.layers)):\n",
    "            self.params['W' + str(i)] -= self.learning_rate * grads['dW' + str(i)]\n",
    "            self.params['b' + str(i)] -= self.learning_rate * grads['db' + str(i)]\n",
    "\n",
    "    def compute_cost(self, A, Y):\n",
    "        m = Y.shape[0]\n",
    "        cost = -np.sum(Y * np.log(A) + (1 - Y) * np.log(1 - A)) / m\n",
    "        return np.squeeze(cost)\n",
    "\n",
    "    def fit(self, X, Y):\n",
    "        for epoch in range(self.epochs):\n",
    "            cache = self.forward_propagation(X)\n",
    "            grads = self.backward_propagation(cache, Y)\n",
    "            self.update_parameters(grads)\n",
    "\n",
    "            if epoch % 100 == 0:\n",
    "                cost = self.compute_cost(cache['A' + str(len(self.layers) - 1)], Y)\n",
    "                print(f'Epoch {epoch}, Cost: {cost}')\n",
    "\n",
    "    def predict(self, X):\n",
    "        cache = self.forward_propagation(X)\n",
    "        predictions = cache['A' + str(len(self.layers) - 1)]\n",
    "        return predictions > 0.5"
   ]
  },
  {
   "cell_type": "code",
   "execution_count": 3,
   "id": "72f27d5a-dfc0-49f8-b89b-d84292c9c5ae",
   "metadata": {},
   "outputs": [],
   "source": [
    "# Load the dataset\n",
    "iris = load_iris()\n",
    "X = iris.data\n",
    "y = (iris.target == 0).astype(int)  # Binary classification: Iris-setosa vs. others"
   ]
  },
  {
   "cell_type": "code",
   "execution_count": 4,
   "id": "f087d6d3-abf4-4be5-8fb5-e62e04927861",
   "metadata": {},
   "outputs": [],
   "source": [
    "# Split the data into training and test sets\n",
    "X_train, X_test, y_train, y_test = train_test_split(X, y, test_size=0.2, random_state=42)\n",
    "\n",
    "# Standardize the features\n",
    "scaler = StandardScaler()\n",
    "X_train = scaler.fit_transform(X_train)\n",
    "X_test = scaler.transform(X_test)"
   ]
  },
  {
   "cell_type": "code",
   "execution_count": 5,
   "id": "84c463bf-9ee4-465a-9bf0-c6a743c80e52",
   "metadata": {},
   "outputs": [
    {
     "name": "stdout",
     "output_type": "stream",
     "text": [
      "Epoch 0, Cost: 83.17769487644863\n",
      "Epoch 100, Cost: 76.99957179186768\n",
      "Epoch 200, Cost: 76.44388786824612\n",
      "Epoch 300, Cost: 76.38821046567644\n",
      "Epoch 400, Cost: 76.38239004992782\n",
      "Epoch 500, Cost: 76.38177328265793\n",
      "Epoch 600, Cost: 76.38170783485094\n",
      "Epoch 700, Cost: 76.3817009613846\n",
      "Epoch 800, Cost: 76.38170027784984\n",
      "Epoch 900, Cost: 76.38170023959353\n",
      "Epoch 1000, Cost: 76.38170027877173\n",
      "Epoch 1100, Cost: 76.38170036283559\n",
      "Epoch 1200, Cost: 76.38170055007706\n",
      "Epoch 1300, Cost: 76.38170102801729\n",
      "Epoch 1400, Cost: 76.38170246566318\n",
      "Epoch 1500, Cost: 76.38170784811456\n",
      "Epoch 1600, Cost: 76.38173457808126\n",
      "Epoch 1700, Cost: 76.38193015094762\n",
      "Epoch 1800, Cost: 76.3846441665528\n",
      "Epoch 1900, Cost: 76.51952896293184\n"
     ]
    }
   ],
   "source": [
    "# Initialize and train the Feedforward Neural Network\n",
    "mlp = MLP(layers=[4, 10, 10, 1], learning_rate=0.05, epochs=2000)\n",
    "mlp.fit(X_train, y_train)"
   ]
  },
  {
   "cell_type": "code",
   "execution_count": 6,
   "id": "e88c7bb1-ecbd-4731-8f10-2467be0cffbd",
   "metadata": {},
   "outputs": [
    {
     "name": "stdout",
     "output_type": "stream",
     "text": [
      "Training Accuracy: 1.00\n",
      "Test Accuracy: 1.00\n"
     ]
    }
   ],
   "source": [
    "# Evaluate the model\n",
    "train_predictions = mlp.predict(X_train)\n",
    "test_predictions = mlp.predict(X_test)\n",
    "train_accuracy = np.mean(train_predictions == y_train.reshape(-1, 1))\n",
    "test_accuracy = np.mean(test_predictions == y_test.reshape(-1, 1))\n",
    "\n",
    "print(f'Training Accuracy: {train_accuracy:.2f}')\n",
    "print(f'Test Accuracy: {test_accuracy:.2f}')"
   ]
  },
  {
   "cell_type": "code",
   "execution_count": 7,
   "id": "2c7507ae-6fd7-4140-9b27-3eabb45319f3",
   "metadata": {},
   "outputs": [],
   "source": [
    "# Plot the decision boundary using PCA to reduce dimensionality to 2D\n",
    "pca = PCA(n_components=2)\n",
    "X_train_pca = pca.fit_transform(X_train)\n",
    "X_test_pca = pca.transform(X_test)"
   ]
  },
  {
   "cell_type": "code",
   "execution_count": 8,
   "id": "2c9c716d-791d-4d8a-aca0-3d0c09d71430",
   "metadata": {},
   "outputs": [],
   "source": [
    "def plot_decision_boundary(X, y, model, pca):\n",
    "    x_min, x_max = X[:, 0].min() - 1, X[:, 0].max() + 1\n",
    "    y_min, y_max = X[:, 1].min() - 1, X[:, 1].max() + 1\n",
    "    xx, yy = np.meshgrid(np.arange(x_min, x_max, 0.01),\n",
    "                         np.arange(y_min, y_max, 0.01))\n",
    "    \n",
    "    Z = model.predict(scaler.transform(pca.inverse_transform(np.c_[xx.ravel(), yy.ravel()])))\n",
    "    Z = Z.reshape(xx.shape)\n",
    "    \n",
    "    plt.contourf(xx, yy, Z, alpha=0.8, cmap=plt.cm.Spectral)\n",
    "    plt.scatter(X[:, 0], X[:, 1], c=y, edgecolors='k', marker='o', cmap=plt.cm.Spectral)\n",
    "    plt.xlim(xx.min(), xx.max())\n",
    "    plt.ylim(yy.min(), yy.max())\n",
    "    plt.title('Decision Boundary')\n",
    "    plt.xlabel('Principal Component 1')\n",
    "    plt.ylabel('Principal Component 2')\n",
    "    plt.show()"
   ]
  },
  {
   "cell_type": "code",
   "execution_count": 9,
   "id": "4e0572e6-fe44-4b16-9409-1c029633514c",
   "metadata": {},
   "outputs": [
    {
     "data": {
      "image/png": "[encoded data removed]",
      "text/plain": [
       "<Figure size 640x480 with 1 Axes>"
      ]
     },
     "metadata": {},
     "output_type": "display_data"
    }
   ],
   "source": [
    "plot_decision_boundary(X_test_pca, y_test, mlp, pca)"
   ]
  },
  {
   "cell_type": "markdown",
   "id": "f12a95db-1899-4db4-9af1-5d4db48989a7",
   "metadata": {},
   "source": [
    "___\n",
    "___\n",
    "### Using `sklearn.neural_network`"
   ]
  },
  {
   "cell_type": "markdown",
   "id": "3a266e15-c738-4af3-bf4d-f47481c628ba",
   "metadata": {},
   "source": [
    "#### MLP Classifier"
   ]
  },
  {
   "cell_type": "code",
   "execution_count": 10,
   "id": "eb21224f-dabc-4e6e-af3a-65aa43bb2f97",
   "metadata": {},
   "outputs": [],
   "source": [
    "import numpy as np\n",
    "import matplotlib.pyplot as plt\n",
    "from sklearn.datasets import load_iris\n",
    "from sklearn.model_selection import train_test_split\n",
    "from sklearn.preprocessing import StandardScaler\n",
    "from sklearn.neural_network import MLPClassifier\n",
    "from sklearn.decomposition import PCA"
   ]
  },
  {
   "cell_type": "code",
   "execution_count": 11,
   "id": "7a816341-06b6-45d6-bb41-f556ddadc6e0",
   "metadata": {},
   "outputs": [],
   "source": [
    "# Load the dataset\n",
    "iris = load_iris()\n",
    "X = iris.data\n",
    "y = (iris.target == 0).astype(int)  # Binary classification: Iris-setosa vs. others"
   ]
  },
  {
   "cell_type": "code",
   "execution_count": 12,
   "id": "31a91315-9df4-4cca-8da5-03db14362fe3",
   "metadata": {},
   "outputs": [],
   "source": [
    "# Split the data into training and test sets\n",
    "X_train, X_test, y_train, y_test = train_test_split(X, y, test_size=0.2, random_state=42)"
   ]
  },
  {
   "cell_type": "code",
   "execution_count": 13,
   "id": "8c577df2-e763-497e-b7a0-cac60c25f6ae",
   "metadata": {},
   "outputs": [],
   "source": [
    "# Standardize the features\n",
    "scaler = StandardScaler()\n",
    "X_train = scaler.fit_transform(X_train)\n",
    "X_test = scaler.transform(X_test)"
   ]
  },
  {
   "cell_type": "code",
   "execution_count": 14,
   "id": "8bdbd7bf-7ac6-4dac-8021-f5c6c3868bc2",
   "metadata": {},
   "outputs": [],
   "source": [
    "# Initialize and train the Feedforward Neural Network\n",
    "mlp = MLPClassifier(hidden_layer_sizes=(10, 10), max_iter=2000, learning_rate_init=0.05, random_state=42)\n",
    "mlp.fit(X_train, y_train)\n",
    "\n",
    "# Evaluate the model\n",
    "train_predictions = mlp.predict(X_train)\n",
    "test_predictions = mlp.predict(X_test)\n",
    "train_accuracy = np.mean(train_predictions == y_train)\n",
    "test_accuracy = np.mean(test_predictions == y_test)"
   ]
  },
  {
   "cell_type": "code",
   "execution_count": 15,
   "id": "1621a03d-84e7-4543-b943-5818fae2f056",
   "metadata": {},
   "outputs": [
    {
     "name": "stdout",
     "output_type": "stream",
     "text": [
      "Training Accuracy: 1.00\n",
      "Test Accuracy: 1.00\n"
     ]
    }
   ],
   "source": [
    "print(f'Training Accuracy: {train_accuracy:.2f}')\n",
    "print(f'Test Accuracy: {test_accuracy:.2f}')"
   ]
  },
  {
   "cell_type": "code",
   "execution_count": 16,
   "id": "0b0dbdb9-22c1-4aa8-9997-76885a22edbc",
   "metadata": {},
   "outputs": [],
   "source": [
    "# Plot the decision boundary using PCA to reduce dimensionality to 2D\n",
    "pca = PCA(n_components=2)\n",
    "X_train_pca = pca.fit_transform(X_train)\n",
    "X_test_pca = pca.transform(X_test)"
   ]
  },
  {
   "cell_type": "code",
   "execution_count": 17,
   "id": "37727424-01f0-43bd-b695-584189d7c145",
   "metadata": {},
   "outputs": [],
   "source": [
    "def plot_decision_boundary(X, y, model, pca):\n",
    "    x_min, x_max = X[:, 0].min() - 1, X[:, 0].max() + 1\n",
    "    y_min, y_max = X[:, 1].min() - 1, X[:, 1].max() + 1\n",
    "    xx, yy = np.meshgrid(np.arange(x_min, x_max, 0.01),\n",
    "                         np.arange(y_min, y_max, 0.01))\n",
    "    \n",
    "    Z = model.predict(scaler.inverse_transform(pca.inverse_transform(np.c_[xx.ravel(), yy.ravel()])))\n",
    "    Z = Z.reshape(xx.shape)\n",
    "    \n",
    "    plt.contourf(xx, yy, Z, alpha=0.8, cmap=plt.cm.Spectral)\n",
    "    plt.scatter(X[:, 0], X[:, 1], c=y, edgecolors='k', marker='o', cmap=plt.cm.Spectral)\n",
    "    plt.xlim(xx.min(), xx.max())\n",
    "    plt.ylim(yy.min(), yy.max())\n",
    "    plt.title('Decision Boundary')\n",
    "    plt.xlabel('Principal Component 1')\n",
    "    plt.ylabel('Principal Component 2')\n",
    "    plt.show()"
   ]
  },
  {
   "cell_type": "code",
   "execution_count": 18,
   "id": "0c2c74f0-a0c9-4367-a017-ee838b2e1d21",
   "metadata": {},
   "outputs": [
    {
     "data": {
      "image/png": "[encoded data removed]",
      "text/plain": [
       "<Figure size 640x480 with 1 Axes>"
      ]
     },
     "metadata": {},
     "output_type": "display_data"
    }
   ],
   "source": [
    "plot_decision_boundary(X_test_pca, y_test, mlp, pca)"
   ]
  },
  {
   "cell_type": "markdown",
   "id": "d78d0c1a-d154-4e54-9caa-587a0d7ae4b4",
   "metadata": {},
   "source": [
    "#### MLP Regressor"
   ]
  },
  {
   "cell_type": "code",
   "execution_count": 19,
   "id": "56a1e7c2-a95e-4043-a92a-8531be0809fd",
   "metadata": {},
   "outputs": [],
   "source": [
    "from sklearn.neural_network import MLPRegressor\n",
    "import numpy as np\n",
    "import matplotlib.pyplot as plt"
   ]
  },
  {
   "cell_type": "code",
   "execution_count": 20,
   "id": "5f8d0c19-ff77-4848-a3e6-d5643b03e21c",
   "metadata": {},
   "outputs": [],
   "source": [
    "# Generate synthetic data\n",
    "x = np.ones((1, 40)) * np.linspace(0, 1, 40)\n",
    "t = np.sin(2 * np.pi * x) + np.cos(4 * np.pi * x) + np.random.randn(40) * 0.2\n",
    "x = x.T\n",
    "t = t.T"
   ]
  },
  {
   "cell_type": "code",
   "execution_count": 21,
   "id": "4d54bde0-1aa3-4b73-b816-b8357688e6e3",
   "metadata": {},
   "outputs": [],
   "source": [
    "# Split the data into training, testing, and validation sets\n",
    "train = x[0::2, :]\n",
    "test = x[1::4, :]\n",
    "valid = x[3::4, :]\n",
    "traintarget = t[0::2, :]\n",
    "testtarget = t[1::4, :]\n",
    "validtarget = t[3::4, :]"
   ]
  },
  {
   "cell_type": "code",
   "execution_count": 22,
   "id": "e811e4d2-7d50-474f-8532-621949109f0f",
   "metadata": {},
   "outputs": [],
   "source": [
    "# Create an MLPRegressor instance\n",
    "regressor = MLPRegressor(hidden_layer_sizes=(100, 50), activation='relu', solver='adam', max_iter=1000, random_state=42)"
   ]
  },
  {
   "cell_type": "code",
   "execution_count": 23,
   "id": "c8a140af-ce32-4d51-b49b-85444c335e19",
   "metadata": {},
   "outputs": [],
   "source": [
    "# Flatten the target variables to 1-dimensional arrays\n",
    "traintarget_flat = traintarget.ravel()\n",
    "testtarget_flat = testtarget.ravel()"
   ]
  },
  {
   "cell_type": "code",
   "execution_count": 24,
   "id": "ad025436-cc89-4bdf-bc92-56c57eda645b",
   "metadata": {},
   "outputs": [
    {
     "data": {
      "text/html": [
       "<style>#sk-container-id-1 {color: black;}#sk-container-id-1 pre{padding: 0;}#sk-container-id-1 div.sk-toggleable {background-color: white;}#sk-container-id-1 label.sk-toggleable__label {cursor: pointer;display: block;width: 100%;margin-bottom: 0;padding: 0.3em;box-sizing: border-box;text-align: center;}#sk-container-id-1 label.sk-toggleable__label-arrow:before {content: \"▸\";float: left;margin-right: 0.25em;color: #696969;}#sk-container-id-1 label.sk-toggleable__label-arrow:hover:before {color: black;}#sk-container-id-1 div.sk-estimator:hover label.sk-toggleable__label-arrow:before {color: black;}#sk-container-id-1 div.sk-toggleable__content {max-height: 0;max-width: 0;overflow: hidden;text-align: left;background-color: #f0f8ff;}#sk-container-id-1 div.sk-toggleable__content pre {margin: 0.2em;color: black;border-radius: 0.25em;background-color: #f0f8ff;}#sk-container-id-1 input.sk-toggleable__control:checked~div.sk-toggleable__content {max-height: 200px;max-width: 100%;overflow: auto;}#sk-container-id-1 input.sk-toggleable__control:checked~label.sk-toggleable__label-arrow:before {content: \"▾\";}#sk-container-id-1 div.sk-estimator input.sk-toggleable__control:checked~label.sk-toggleable__label {background-color: #d4ebff;}#sk-container-id-1 div.sk-label input.sk-toggleable__control:checked~label.sk-toggleable__label {background-color: #d4ebff;}#sk-container-id-1 input.sk-hidden--visually {border: 0;clip: rect(1px 1px 1px 1px);clip: rect(1px, 1px, 1px, 1px);height: 1px;margin: -1px;overflow: hidden;padding: 0;position: absolute;width: 1px;}#sk-container-id-1 div.sk-estimator {font-family: monospace;background-color: #f0f8ff;border: 1px dotted black;border-radius: 0.25em;box-sizing: border-box;margin-bottom: 0.5em;}#sk-container-id-1 div.sk-estimator:hover {background-color: #d4ebff;}#sk-container-id-1 div.sk-parallel-item::after {content: \"\";width: 100%;border-bottom: 1px solid gray;flex-grow: 1;}#sk-container-id-1 div.sk-label:hover label.sk-toggleable__label {background-color: #d4ebff;}#sk-container-id-1 div.sk-serial::before {content: \"\";position: absolute;border-left: 1px solid gray;box-sizing: border-box;top: 0;bottom: 0;left: 50%;z-index: 0;}#sk-container-id-1 div.sk-serial {display: flex;flex-direction: column;align-items: center;background-color: white;padding-right: 0.2em;padding-left: 0.2em;position: relative;}#sk-container-id-1 div.sk-item {position: relative;z-index: 1;}#sk-container-id-1 div.sk-parallel {display: flex;align-items: stretch;justify-content: center;background-color: white;position: relative;}#sk-container-id-1 div.sk-item::before, #sk-container-id-1 div.sk-parallel-item::before {content: \"\";position: absolute;border-left: 1px solid gray;box-sizing: border-box;top: 0;bottom: 0;left: 50%;z-index: -1;}#sk-container-id-1 div.sk-parallel-item {display: flex;flex-direction: column;z-index: 1;position: relative;background-color: white;}#sk-container-id-1 div.sk-parallel-item:first-child::after {align-self: flex-end;width: 50%;}#sk-container-id-1 div.sk-parallel-item:last-child::after {align-self: flex-start;width: 50%;}#sk-container-id-1 div.sk-parallel-item:only-child::after {width: 0;}#sk-container-id-1 div.sk-dashed-wrapped {border: 1px dashed gray;margin: 0 0.4em 0.5em 0.4em;box-sizing: border-box;padding-bottom: 0.4em;background-color: white;}#sk-container-id-1 div.sk-label label {font-family: monospace;font-weight: bold;display: inline-block;line-height: 1.2em;}#sk-container-id-1 div.sk-label-container {text-align: center;}#sk-container-id-1 div.sk-container {/* jupyter's `normalize.less` sets `[hidden] { display: none; }` but bootstrap.min.css set `[hidden] { display: none !important; }` so we also need the `!important` here to be able to override the default hidden behavior on the sphinx rendered scikit-learn.org. See: https://github.com/scikit-learn/scikit-learn/issues/21755 */display: inline-block !important;position: relative;}#sk-container-id-1 div.sk-text-repr-fallback {display: none;}</style><div id=\"sk-container-id-1\" class=\"sk-top-container\"><div class=\"sk-text-repr-fallback\"><pre>MLPRegressor(hidden_layer_sizes=(100, 50), max_iter=1000, random_state=42)</pre><b>In a Jupyter environment, please rerun this cell to show the HTML representation or trust the notebook. <br />On GitHub, the HTML representation is unable to render, please try loading this page with nbviewer.org.</b></div><div class=\"sk-container\" hidden><div class=\"sk-item\"><div class=\"sk-estimator sk-toggleable\"><input class=\"sk-toggleable__control sk-hidden--visually\" id=\"sk-estimator-id-1\" type=\"checkbox\" checked><label for=\"sk-estimator-id-1\" class=\"sk-toggleable__label sk-toggleable__label-arrow\">MLPRegressor</label><div class=\"sk-toggleable__content\"><pre>MLPRegressor(hidden_layer_sizes=(100, 50), max_iter=1000, random_state=42)</pre></div></div></div></div></div>"
      ],
      "text/plain": [
       "MLPRegressor(hidden_layer_sizes=(100, 50), max_iter=1000, random_state=42)"
      ]
     },
     "execution_count": 24,
     "metadata": {},
     "output_type": "execute_result"
    }
   ],
   "source": [
    "# Train the regressor using the training data\n",
    "regressor.fit(train, traintarget_flat)"
   ]
  },
  {
   "cell_type": "code",
   "execution_count": 25,
   "id": "4152a4bf-96c4-4a05-891b-f4b728a84c93",
   "metadata": {},
   "outputs": [],
   "source": [
    "# Predict on the test set\n",
    "predictions = regressor.predict(test)"
   ]
  },
  {
   "cell_type": "code",
   "execution_count": 26,
   "id": "6a40cdda-7c82-42fb-86d4-12be06c02c7e",
   "metadata": {},
   "outputs": [
    {
     "data": {
      "image/png": "[encoded data removed]",
      "text/plain": [
       "<Figure size 640x480 with 1 Axes>"
      ]
     },
     "metadata": {},
     "output_type": "display_data"
    }
   ],
   "source": [
    "# Plot the results\n",
    "plt.scatter(test, testtarget_flat, color='black', label='Actual')\n",
    "plt.scatter(test, predictions, color='red', label='Predicted')\n",
    "\n",
    "# Sort the test data for plotting the regression line\n",
    "sorted_indices = np.argsort(test.flatten())\n",
    "sorted_test = test.flatten()[sorted_indices]\n",
    "sorted_predictions = predictions[sorted_indices]\n",
    "\n",
    "# Plot the regression line\n",
    "plt.plot(sorted_test, sorted_predictions, color='blue', label='Regression Line')\n",
    "\n",
    "plt.legend()\n",
    "plt.show()"
   ]
  },
  {
   "cell_type": "markdown",
   "id": "5b19ea86-3599-45c3-8a60-3b6ef281479c",
   "metadata": {},
   "source": [
    "### Conclusion\n",
    "\n",
    "In this section, we explored the implementation of a Feedforward Neural Network (FNN) from scratch and applied it to the Iris dataset for binary classification. The Iris dataset, which is a classic example in machine learning, contains features that are suitable for classification tasks. We used the FNN to classify the Iris data into two classes based on selected features.\n",
    "\n",
    "The process included initializing the network with appropriate layers, training it using backpropagation, and updating the weights to minimize the cost function. After training, the model's performance was evaluated, and the decision boundaries were visualized to understand how the network separates different classes.\n",
    "\n",
    "Despite its simplicity, the FNN demonstrated its capability to effectively classify the Iris dataset into two classes, showcasing its utility in solving real-world binary classification problems. This implementation highlights the importance of neural networks in handling complex datasets and forming the basis for more advanced architectures in deep learning.\n"
   ]
  }
 ],
 "metadata": {
  "kernelspec": {
   "display_name": "Python 3 (ipykernel)",
   "language": "python",
   "name": "python3"
  },
  "language_info": {
   "codemirror_mode": {
    "name": "ipython",
    "version": 3
   },
   "file_extension": ".py",
   "mimetype": "text/x-python",
   "name": "python",
   "nbconvert_exporter": "python",
   "pygments_lexer": "ipython3",
   "version": "3.12.0"
  }
 },
 "nbformat": 4,
 "nbformat_minor": 5
}
