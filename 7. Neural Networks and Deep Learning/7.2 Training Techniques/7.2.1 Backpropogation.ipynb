{
 "cells": [
  {
   "cell_type": "markdown",
   "id": "813733b2-8743-48f7-a8af-d5cf30559f16",
   "metadata": {},
   "source": [
    "# 7.2.1 Backpropagation\n",
    "\n",
    "## Explanation of Backpropagation\n",
    "\n",
    "Backpropagation, short for \"backward propagation of errors,\" is a crucial algorithm used for training feedforward neural networks. It enables the optimization of the network's parameters (weights and biases) by calculating the gradient of the loss function with respect to each parameter. This process helps in minimizing the error between the predicted output and the actual output through iterative adjustments.\n",
    "\n",
    "The backpropagation algorithm operates in two main phases:\n",
    "\n",
    "1. **Forward Pass**: During this phase, input data is fed through the network layer by layer to compute the predicted output. Each layer performs linear transformations followed by a non-linear activation function. The final output is obtained after passing through all layers.\n",
    "\n",
    "2. **Backward Pass**: In this phase, the algorithm calculates the error of the network by comparing the predicted output to the actual output using a loss function. The error is then propagated backward through the network to compute the gradients of the loss function with respect to each weight and bias. This involves applying the chain rule of calculus to determine how much each parameter contributed to the error."
   ]
  },
  {
   "cell_type": "markdown",
   "id": "ca0c4fe1-25d4-44e5-827a-d329e72f9613",
   "metadata": {},
   "source": [
    "\n",
    "### **The key mathematical steps in backpropagation are:**\n",
    "\n",
    "- **Forward Pass**:\n",
    "  Compute the activations for each layer:\n",
    "  $$a(l) = f(W(l) a(l−1) + b(l))$$\n",
    "  where $a(l)$ is the activation of layer $l$, $W(l)$ is the weight matrix of layer $l$, $b(l)$ is the bias vector of layer $l$, and $f$ is the activation function.\n",
    "\n",
    "- **Compute Error**:\n",
    "  Calculate the loss:\n",
    "  $$\n",
    "  L = \\frac{1}{m} \\sum_{i=1}^{m} \\text{loss}(y(i), \\hat{y}(i))\n",
    "  $$\n",
    "  where $m$ is the number of training examples, $y(i)$ is the actual output, and $\\hat{y}(i)$ is the predicted output.\n",
    "\n",
    "- **Backward Pass**:\n",
    "  Compute the gradient of the loss with respect to the output of the last layer:\n",
    "  $$\n",
    "  \\delta(L) = \\frac{\\partial L}{\\partial a(L)} \\cdot f'(z(L))\n",
    "  $$\n",
    "  where $\\delta(L)$ is the error term for the last layer, and $z(L)$ is the input to the activation function of the last layer.\n",
    "\n",
    "  Propagate the error backward through the network:\n",
    "  $$\n",
    "  \\delta(l) = (\\delta(l+1) W(l+1)) \\cdot f'(z(l))\n",
    "  $$\n",
    "  where $\\delta(l)$ is the error term for layer $l$.\n",
    "\n",
    "- **Update Parameters**:\n",
    "  Adjust the weights and biases:\n",
    "  $$\n",
    "  W(l) = W(l) - \\eta \\frac{\\partial L}{\\partial W(l)}\n",
    "  $$\n",
    "  $$\n",
    "  b(l) = b(l) - \\eta \\frac{\\partial L}{\\partial b(l)}\n",
    "  $$\n",
    "  where $\\eta$ is the learning rate.\n",
    "\n",
    "Backpropagation allows for efficient computation of gradients, making it possible to optimize the network's parameters and improve its performance. Without this algorithm, training deep neural networks would be computationally impractical. By iteratively adjusting parameters to minimize error, backpropagation enhances the network's accuracy and generalization capabilities.\n"
   ]
  },
  {
   "cell_type": "markdown",
   "id": "7176b7ee-df67-462b-ac07-48930c302e61",
   "metadata": {},
   "source": [
    "___\n",
    "___\n",
    "\n",
    "### 3b1b: [What is backpropagation really doing?](https://www.youtube.com/watch?v=Ilg3gGewQ5U)\n",
    "### Readings:\n",
    "- [Backpropogation - Brilliant](https://brilliant.org/wiki/backpropagation/)\n",
    "- [Understanding Backpropagation Algorithm](https://towardsdatascience.com/understanding-backpropagation-algorithm-7bb3aa2f95fd)\n",
    "- [Backpropagation step by step](https://medium.com/@serbanliviu/backpropagation-step-by-step-c8062593db27)\n",
    "- [Gradient Descent vs. Backpropagation](https://www.analyticsvidhya.com/blog/2023/01/gradient-descent-vs-backpropagation-whats-the-difference/)\n",
    "- [Deriving and implementing backpropagation](https://medium.com/binaryandmore/beginners-guide-to-deriving-and-implementing-backpropagation-e3c1a5a1e536)\n",
    "\n",
    "___\n",
    "___"
   ]
  },
  {
   "cell_type": "code",
   "execution_count": 1,
   "id": "4f8ab968-8b83-47cf-bddc-68d648d6af98",
   "metadata": {},
   "outputs": [],
   "source": [
    "import numpy as np\n",
    "\n",
    "class NeuralNetwork:\n",
    "    def __init__(self, layers, learning_rate=0.01, epochs=1000):\n",
    "        self.layers = layers\n",
    "        self.learning_rate = learning_rate\n",
    "        self.epochs = epochs\n",
    "        self.params = self.initialize_parameters()\n",
    "\n",
    "    def initialize_parameters(self):\n",
    "        np.random.seed(42)\n",
    "        params = {}\n",
    "        for i in range(1, len(self.layers)):\n",
    "            params['W' + str(i)] = np.random.randn(self.layers[i-1], self.layers[i]) * 0.01\n",
    "            params['b' + str(i)] = np.zeros((1, self.layers[i]))\n",
    "        return params\n",
    "\n",
    "    def relu(self, Z):\n",
    "        return np.maximum(0, Z)\n",
    "\n",
    "    def sigmoid(self, Z):\n",
    "        return 1 / (1 + np.exp(-Z))\n",
    "\n",
    "    def relu_derivative(self, Z):\n",
    "        return Z > 0\n",
    "\n",
    "    def sigmoid_derivative(self, Z):\n",
    "        return Z * (1 - Z)\n",
    "\n",
    "    def forward_propagation(self, X):\n",
    "        cache = {'A0': X}\n",
    "        A = X\n",
    "        for i in range(1, len(self.layers)):\n",
    "            Z = np.dot(A, self.params['W' + str(i)]) + self.params['b' + str(i)]\n",
    "            A = self.relu(Z) if i < len(self.layers) - 1 else self.sigmoid(Z)\n",
    "            cache['Z' + str(i)] = Z\n",
    "            cache['A' + str(i)] = A\n",
    "        return cache\n",
    "\n",
    "    def backward_propagation(self, cache, Y):\n",
    "        grads = {}\n",
    "        L = len(self.layers) - 1\n",
    "        m = Y.shape[0]\n",
    "        Y = Y.reshape(cache['A' + str(L)].shape)\n",
    "        dA = -(np.divide(Y, cache['A' + str(L)]) - np.divide(1 - Y, 1 - cache['A' + str(L)]))\n",
    "\n",
    "        for i in reversed(range(1, L + 1)):\n",
    "            dZ = dA * (self.sigmoid_derivative(cache['A' + str(i)]) if i == L else self.relu_derivative(cache['Z' + str(i)]))\n",
    "            grads['dW' + str(i)] = np.dot(cache['A' + str(i-1)].T, dZ) / m\n",
    "            grads['db' + str(i)] = np.sum(dZ, axis=0, keepdims=True) / m\n",
    "            dA = np.dot(dZ, self.params['W' + str(i)].T)\n",
    "        return grads\n",
    "\n",
    "    def update_parameters(self, grads):\n",
    "        for i in range(1, len(self.layers)):\n",
    "            self.params['W' + str(i)] -= self.learning_rate * grads['dW' + str(i)]\n",
    "            self.params['b' + str(i)] -= self.learning_rate * grads['db' + str(i)]\n",
    "\n",
    "    def compute_cost(self, A, Y):\n",
    "        m = Y.shape[0]\n",
    "        cost = -np.sum(Y * np.log(A) + (1 - Y) * np.log(1 - A)) / m\n",
    "        return np.squeeze(cost)\n",
    "\n",
    "    def fit(self, X, Y):\n",
    "        for epoch in range(self.epochs):\n",
    "            cache = self.forward_propagation(X)\n",
    "            grads = self.backward_propagation(cache, Y)\n",
    "            self.update_parameters(grads)\n",
    "\n",
    "            if epoch % 100 == 0:\n",
    "                cost = self.compute_cost(cache['A' + str(len(self.layers) - 1)], Y)\n",
    "                print(f'Epoch {epoch}, Cost: {cost}')\n",
    "\n",
    "    def predict(self, X):\n",
    "        cache = self.forward_propagation(X)\n",
    "        predictions = cache['A' + str(len(self.layers) - 1)]\n",
    "        return predictions > 0.5\n"
   ]
  },
  {
   "cell_type": "code",
   "execution_count": 2,
   "id": "8ebdf196-99bd-402b-aa3b-68ca48de75aa",
   "metadata": {},
   "outputs": [],
   "source": [
    "from sklearn.datasets import load_iris\n",
    "from sklearn.model_selection import train_test_split\n",
    "from sklearn.preprocessing import StandardScaler\n",
    "from sklearn.decomposition import PCA\n",
    "import matplotlib.pyplot as plt\n",
    "\n",
    "# Load the dataset\n",
    "iris = load_iris()\n",
    "X = iris.data\n",
    "y = (iris.target == 0).astype(int)  # Binary classification: Iris-setosa vs. others"
   ]
  },
  {
   "cell_type": "code",
   "execution_count": 3,
   "id": "2c159139-8307-4fdf-a241-2eb36d78713d",
   "metadata": {},
   "outputs": [],
   "source": [
    "# Split the data into training and test sets\n",
    "X_train, X_test, y_train, y_test = train_test_split(X, y, test_size=0.2, random_state=42)\n",
    "\n",
    "# Standardize the features\n",
    "scaler = StandardScaler()\n",
    "X_train = scaler.fit_transform(X_train)\n",
    "X_test = scaler.transform(X_test)"
   ]
  },
  {
   "cell_type": "code",
   "execution_count": 4,
   "id": "179f79c0-3029-4d4c-ab85-c694df2a6ba0",
   "metadata": {},
   "outputs": [
    {
     "name": "stdout",
     "output_type": "stream",
     "text": [
      "Epoch 0, Cost: 83.17769487644863\n",
      "Epoch 100, Cost: 76.99957179186768\n",
      "Epoch 200, Cost: 76.44388786824612\n",
      "Epoch 300, Cost: 76.38821046567644\n",
      "Epoch 400, Cost: 76.38239004992782\n",
      "Epoch 500, Cost: 76.38177328265793\n",
      "Epoch 600, Cost: 76.38170783485094\n",
      "Epoch 700, Cost: 76.3817009613846\n",
      "Epoch 800, Cost: 76.38170027784984\n",
      "Epoch 900, Cost: 76.38170023959353\n",
      "Epoch 1000, Cost: 76.38170027877173\n",
      "Epoch 1100, Cost: 76.38170036283559\n",
      "Epoch 1200, Cost: 76.38170055007706\n",
      "Epoch 1300, Cost: 76.38170102801729\n",
      "Epoch 1400, Cost: 76.38170246566318\n",
      "Epoch 1500, Cost: 76.38170784811456\n",
      "Epoch 1600, Cost: 76.38173457808126\n",
      "Epoch 1700, Cost: 76.38193015094762\n",
      "Epoch 1800, Cost: 76.3846441665528\n",
      "Epoch 1900, Cost: 76.51952896293184\n",
      "Training Accuracy: 1.00\n",
      "Test Accuracy: 1.00\n"
     ]
    }
   ],
   "source": [
    "# Initialize and train the Neural Network\n",
    "nn = NeuralNetwork(layers=[4, 10, 10, 1], learning_rate=0.05, epochs=2000)\n",
    "nn.fit(X_train, y_train)\n",
    "\n",
    "# Evaluate the model\n",
    "train_predictions = nn.predict(X_train)\n",
    "test_predictions = nn.predict(X_test)\n",
    "train_accuracy = np.mean(train_predictions == y_train.reshape(-1, 1))\n",
    "test_accuracy = np.mean(test_predictions == y_test.reshape(-1, 1))\n",
    "\n",
    "print(f'Training Accuracy: {train_accuracy:.2f}')\n",
    "print(f'Test Accuracy: {test_accuracy:.2f}')"
   ]
  },
  {
   "cell_type": "code",
   "execution_count": 5,
   "id": "7533a6d1-ae1f-422a-adf9-a76a5645a6c9",
   "metadata": {},
   "outputs": [
    {
     "data": {
      "image/png": "[encoded data removed]",
      "text/plain": [
       "<Figure size 640x480 with 1 Axes>"
      ]
     },
     "metadata": {},
     "output_type": "display_data"
    }
   ],
   "source": [
    "# Plot the decision boundary using PCA to reduce dimensionality to 2D\n",
    "pca = PCA(n_components=2)\n",
    "X_train_pca = pca.fit_transform(X_train)\n",
    "X_test_pca = pca.transform(X_test)\n",
    "\n",
    "def plot_decision_boundary(X, y, model, pca):\n",
    "    x_min, x_max = X[:, 0].min() - 1, X[:, 0].max() + 1\n",
    "    y_min, y_max = X[:, 1].min() - 1, X[:, 1].max() + 1\n",
    "    xx, yy = np.meshgrid(np.arange(x_min, x_max, 0.01),\n",
    "                         np.arange(y_min, y_max, 0.01))\n",
    "    \n",
    "    Z = model.predict(scaler.transform(pca.inverse_transform(np.c_[xx.ravel(), yy.ravel()])))\n",
    "    Z = Z.reshape(xx.shape)\n",
    "    \n",
    "    plt.contourf(xx, yy, Z, alpha=0.8, cmap=plt.cm.Spectral)\n",
    "    plt.scatter(X[:, 0], X[:, 1], c=y, edgecolors='k', marker='o', cmap=plt.cm.Spectral)\n",
    "    plt.xlim(xx.min(), xx.max())\n",
    "    plt.ylim(yy.min(), yy.max())\n",
    "    plt.title('Decision Boundary')\n",
    "    plt.xlabel('Principal Component 1')\n",
    "    plt.ylabel('Principal Component 2')\n",
    "    plt.show()\n",
    "\n",
    "plot_decision_boundary(X_test_pca, y_test, nn, pca)"
   ]
  },
  {
   "cell_type": "markdown",
   "id": "d9553f1d-0020-485f-bf69-04e38edd3700",
   "metadata": {},
   "source": [
    "## Using `Tensorflow`:"
   ]
  },
  {
   "cell_type": "code",
   "execution_count": 6,
   "id": "add2211c-d63d-48b3-92d7-c32c9574d4f3",
   "metadata": {},
   "outputs": [],
   "source": [
    "import tensorflow as tf\n",
    "from tensorflow.keras.models import Sequential\n",
    "from tensorflow.keras.layers import Dense, Input\n",
    "from tensorflow.keras.optimizers import Adam\n",
    "from sklearn.datasets import load_iris\n",
    "from sklearn.model_selection import train_test_split\n",
    "from sklearn.preprocessing import StandardScaler\n",
    "from sklearn.decomposition import PCA\n",
    "import matplotlib.pyplot as plt\n",
    "import numpy as np"
   ]
  },
  {
   "cell_type": "code",
   "execution_count": 7,
   "id": "ae5d1dea-9a5e-46b1-827f-eb9a90dbec71",
   "metadata": {},
   "outputs": [],
   "source": [
    "# Load the dataset\n",
    "iris = load_iris()\n",
    "X = iris.data\n",
    "y = (iris.target == 0).astype(int)  # Binary classification: Iris-setosa vs. others\n",
    "\n",
    "# Split the data into training and test sets\n",
    "X_train, X_test, y_train, y_test = train_test_split(X, y, test_size=0.2, random_state=42)\n",
    "\n",
    "# Standardize the features\n",
    "scaler = StandardScaler()\n",
    "X_train = scaler.fit_transform(X_train)\n",
    "X_test = scaler.transform(X_test)"
   ]
  },
  {
   "cell_type": "code",
   "execution_count": 8,
   "id": "0fa4ecc6-e123-4078-be95-8b3183469b25",
   "metadata": {},
   "outputs": [
    {
     "name": "stdout",
     "output_type": "stream",
     "text": [
      "Epoch 1/20\n",
      "\u001b[1m3/3\u001b[0m \u001b[32m━━━━━━━━━━━━━━━━━━━━\u001b[0m\u001b[37m\u001b[0m \u001b[1m1s\u001b[0m 98ms/step - accuracy: 0.7031 - loss: 0.7488 - val_accuracy: 1.0000 - val_loss: 0.1279\n",
      "Epoch 2/20\n",
      "\u001b[1m3/3\u001b[0m \u001b[32m━━━━━━━━━━━━━━━━━━━━\u001b[0m\u001b[37m\u001b[0m \u001b[1m0s\u001b[0m 20ms/step - accuracy: 0.9831 - loss: 0.1423 - val_accuracy: 1.0000 - val_loss: 0.0184\n",
      "Epoch 3/20\n",
      "\u001b[1m3/3\u001b[0m \u001b[32m━━━━━━━━━━━━━━━━━━━━\u001b[0m\u001b[37m\u001b[0m \u001b[1m0s\u001b[0m 19ms/step - accuracy: 1.0000 - loss: 0.0238 - val_accuracy: 1.0000 - val_loss: 0.0027\n",
      "Epoch 4/20\n",
      "\u001b[1m3/3\u001b[0m \u001b[32m━━━━━━━━━━━━━━━━━━━━\u001b[0m\u001b[37m\u001b[0m \u001b[1m0s\u001b[0m 21ms/step - accuracy: 1.0000 - loss: 0.0087 - val_accuracy: 1.0000 - val_loss: 5.5314e-04\n",
      "Epoch 5/20\n",
      "\u001b[1m3/3\u001b[0m \u001b[32m━━━━━━━━━━━━━━━━━━━━\u001b[0m\u001b[37m\u001b[0m \u001b[1m0s\u001b[0m 22ms/step - accuracy: 1.0000 - loss: 0.0016 - val_accuracy: 1.0000 - val_loss: 1.5899e-04\n",
      "Epoch 6/20\n",
      "\u001b[1m3/3\u001b[0m \u001b[32m━━━━━━━━━━━━━━━━━━━━\u001b[0m\u001b[37m\u001b[0m \u001b[1m0s\u001b[0m 21ms/step - accuracy: 1.0000 - loss: 1.6042e-04 - val_accuracy: 1.0000 - val_loss: 5.8216e-05\n",
      "Epoch 7/20\n",
      "\u001b[1m3/3\u001b[0m \u001b[32m━━━━━━━━━━━━━━━━━━━━\u001b[0m\u001b[37m\u001b[0m \u001b[1m0s\u001b[0m 20ms/step - accuracy: 1.0000 - loss: 6.2242e-05 - val_accuracy: 1.0000 - val_loss: 2.5945e-05\n",
      "Epoch 8/20\n",
      "\u001b[1m3/3\u001b[0m \u001b[32m━━━━━━━━━━━━━━━━━━━━\u001b[0m\u001b[37m\u001b[0m \u001b[1m0s\u001b[0m 19ms/step - accuracy: 1.0000 - loss: 2.0937e-05 - val_accuracy: 1.0000 - val_loss: 1.4552e-05\n",
      "Epoch 9/20\n",
      "\u001b[1m3/3\u001b[0m \u001b[32m━━━━━━━━━━━━━━━━━━━━\u001b[0m\u001b[37m\u001b[0m \u001b[1m0s\u001b[0m 19ms/step - accuracy: 1.0000 - loss: 1.3029e-05 - val_accuracy: 1.0000 - val_loss: 9.2702e-06\n",
      "Epoch 10/20\n",
      "\u001b[1m3/3\u001b[0m \u001b[32m━━━━━━━━━━━━━━━━━━━━\u001b[0m\u001b[37m\u001b[0m \u001b[1m0s\u001b[0m 21ms/step - accuracy: 1.0000 - loss: 4.6010e-06 - val_accuracy: 1.0000 - val_loss: 6.5508e-06\n",
      "Epoch 11/20\n",
      "\u001b[1m3/3\u001b[0m \u001b[32m━━━━━━━━━━━━━━━━━━━━\u001b[0m\u001b[37m\u001b[0m \u001b[1m0s\u001b[0m 24ms/step - accuracy: 1.0000 - loss: 3.4608e-06 - val_accuracy: 1.0000 - val_loss: 5.0135e-06\n",
      "Epoch 12/20\n",
      "\u001b[1m3/3\u001b[0m \u001b[32m━━━━━━━━━━━━━━━━━━━━\u001b[0m\u001b[37m\u001b[0m \u001b[1m0s\u001b[0m 22ms/step - accuracy: 1.0000 - loss: 2.6873e-06 - val_accuracy: 1.0000 - val_loss: 4.0656e-06\n",
      "Epoch 13/20\n",
      "\u001b[1m3/3\u001b[0m \u001b[32m━━━━━━━━━━━━━━━━━━━━\u001b[0m\u001b[37m\u001b[0m \u001b[1m0s\u001b[0m 23ms/step - accuracy: 1.0000 - loss: 1.7044e-06 - val_accuracy: 1.0000 - val_loss: 3.4517e-06\n",
      "Epoch 14/20\n",
      "\u001b[1m3/3\u001b[0m \u001b[32m━━━━━━━━━━━━━━━━━━━━\u001b[0m\u001b[37m\u001b[0m \u001b[1m0s\u001b[0m 24ms/step - accuracy: 1.0000 - loss: 2.1153e-06 - val_accuracy: 1.0000 - val_loss: 3.0325e-06\n",
      "Epoch 15/20\n",
      "\u001b[1m3/3\u001b[0m \u001b[32m━━━━━━━━━━━━━━━━━━━━\u001b[0m\u001b[37m\u001b[0m \u001b[1m0s\u001b[0m 22ms/step - accuracy: 1.0000 - loss: 1.3066e-06 - val_accuracy: 1.0000 - val_loss: 2.7421e-06\n",
      "Epoch 16/20\n",
      "\u001b[1m3/3\u001b[0m \u001b[32m━━━━━━━━━━━━━━━━━━━━\u001b[0m\u001b[37m\u001b[0m \u001b[1m0s\u001b[0m 20ms/step - accuracy: 1.0000 - loss: 1.2513e-06 - val_accuracy: 1.0000 - val_loss: 2.5350e-06\n",
      "Epoch 17/20\n",
      "\u001b[1m3/3\u001b[0m \u001b[32m━━━━━━━━━━━━━━━━━━━━\u001b[0m\u001b[37m\u001b[0m \u001b[1m0s\u001b[0m 23ms/step - accuracy: 1.0000 - loss: 1.3101e-06 - val_accuracy: 1.0000 - val_loss: 2.3784e-06\n",
      "Epoch 18/20\n",
      "\u001b[1m3/3\u001b[0m \u001b[32m━━━━━━━━━━━━━━━━━━━━\u001b[0m\u001b[37m\u001b[0m \u001b[1m0s\u001b[0m 23ms/step - accuracy: 1.0000 - loss: 8.8043e-07 - val_accuracy: 1.0000 - val_loss: 2.2591e-06\n",
      "Epoch 19/20\n",
      "\u001b[1m3/3\u001b[0m \u001b[32m━━━━━━━━━━━━━━━━━━━━\u001b[0m\u001b[37m\u001b[0m \u001b[1m0s\u001b[0m 23ms/step - accuracy: 1.0000 - loss: 1.0610e-06 - val_accuracy: 1.0000 - val_loss: 2.1686e-06\n",
      "Epoch 20/20\n",
      "\u001b[1m3/3\u001b[0m \u001b[32m━━━━━━━━━━━━━━━━━━━━\u001b[0m\u001b[37m\u001b[0m \u001b[1m0s\u001b[0m 25ms/step - accuracy: 1.0000 - loss: 7.8963e-07 - val_accuracy: 1.0000 - val_loss: 2.0962e-06\n"
     ]
    }
   ],
   "source": [
    "# Initialize the Neural Network model\n",
    "model = Sequential([\n",
    "    Input(shape=(4,)), \n",
    "    Dense(10, activation='relu', kernel_initializer='he_normal'),\n",
    "    Dense(10, activation='relu', kernel_initializer='he_normal'),\n",
    "    Dense(1, activation='sigmoid', kernel_initializer='he_normal')\n",
    "])\n",
    "# Compile the model\n",
    "model.compile(optimizer=Adam(learning_rate=0.05), loss='binary_crossentropy', metrics=['accuracy'])\n",
    "\n",
    "# Train the model\n",
    "history = model.fit(X_train, y_train, epochs=20, batch_size=32, verbose=1, validation_split=0.2)"
   ]
  },
  {
   "cell_type": "code",
   "execution_count": 9,
   "id": "697e3c95-1a9d-4d31-abc3-ed712829664f",
   "metadata": {},
   "outputs": [
    {
     "name": "stdout",
     "output_type": "stream",
     "text": [
      "Training Accuracy: 1.00\n",
      "Test Accuracy: 1.00\n"
     ]
    }
   ],
   "source": [
    "# Evaluate the model\n",
    "train_loss, train_accuracy = model.evaluate(X_train, y_train, verbose=0)\n",
    "test_loss, test_accuracy = model.evaluate(X_test, y_test, verbose=0)\n",
    "\n",
    "print(f'Training Accuracy: {train_accuracy:.2f}')\n",
    "print(f'Test Accuracy: {test_accuracy:.2f}')"
   ]
  },
  {
   "cell_type": "code",
   "execution_count": 10,
   "id": "4176a772-6ea6-4ac7-82e1-b9610cc179ce",
   "metadata": {},
   "outputs": [
    {
     "name": "stdout",
     "output_type": "stream",
     "text": [
      "\u001b[1m14784/14784\u001b[0m \u001b[32m━━━━━━━━━━━━━━━━━━━━\u001b[0m\u001b[37m\u001b[0m \u001b[1m11s\u001b[0m 767us/step\n"
     ]
    },
    {
     "data": {
      "image/png": "[encoded data removed]",
      "text/plain": [
       "<Figure size 640x480 with 1 Axes>"
      ]
     },
     "metadata": {},
     "output_type": "display_data"
    }
   ],
   "source": [
    "# Plot the decision boundary using PCA to reduce dimensionality to 2D\n",
    "pca = PCA(n_components=2)\n",
    "X_train_pca = pca.fit_transform(X_train)\n",
    "X_test_pca = pca.transform(X_test)\n",
    "\n",
    "def plot_decision_boundary(X, y, model, pca):\n",
    "    x_min, x_max = X[:, 0].min() - 1, X[:, 0].max() + 1\n",
    "    y_min, y_max = X[:, 1].min() - 1, X[:, 1].max() + 1\n",
    "    xx, yy = np.meshgrid(np.arange(x_min, x_max, 0.01),\n",
    "                         np.arange(y_min, y_max, 0.01))\n",
    "    \n",
    "    Z = model.predict(scaler.transform(pca.inverse_transform(np.c_[xx.ravel(), yy.ravel()])))\n",
    "    Z = (Z > 0.5).astype(int).reshape(xx.shape)\n",
    "    \n",
    "    plt.contourf(xx, yy, Z, alpha=0.8, cmap=plt.cm.Spectral)\n",
    "    plt.scatter(X[:, 0], X[:, 1], c=y, edgecolors='k', marker='o', cmap=plt.cm.Spectral)\n",
    "    plt.xlim(xx.min(), xx.max())\n",
    "    plt.ylim(yy.min(), yy.max())\n",
    "    plt.title('Decision Boundary')\n",
    "    plt.xlabel('Principal Component 1')\n",
    "    plt.ylabel('Principal Component 2')\n",
    "    plt.show()\n",
    "\n",
    "plot_decision_boundary(X_test_pca, y_test, model, pca)"
   ]
  },
  {
   "cell_type": "markdown",
   "id": "b171329f-bd65-4361-b0ef-bb8d1cbbc47d",
   "metadata": {},
   "source": [
    "# Conclusion\n",
    "\n",
    "In this notebook, we explored two approaches to implementing a Multi-Layer Perceptron (MLP) for binary classification on the Iris dataset:\n",
    "\n",
    "1. **Custom Implementation from Scratch**: We manually built an MLP class from scratch, including essential components like weight initialization, forward and backward propagation, and parameter updates. This approach gave us a deeper understanding of how neural networks are trained and the mechanics behind backpropagation. We observed the training process and evaluated the model's performance, gaining insights into the challenges and limitations of implementing neural networks manually.\n",
    "\n",
    "2. **Using TensorFlow/Keras**: We also leveraged the TensorFlow/Keras library to build and train an MLP. This high-level approach streamlined the development process, allowing us to focus on model design and evaluation rather than the underlying mathematical details. TensorFlow/Keras provides a robust framework for creating neural networks with built-in functions for optimization, loss computation, and performance evaluation. By comparing this approach to our custom implementation, we appreciated the convenience and efficiency offered by modern machine learning libraries.\n",
    "\n",
    "Both methods demonstrated the capability of neural networks to handle binary classification tasks effectively. The TensorFlow/Keras implementation, in particular, showcased the ease of use and powerful features available for building complex models and performing efficient training.\n",
    "\n",
    "Through this comparison, we gained valuable experience in both the theoretical and practical aspects of neural network training, preparing us for future work with more advanced models and real-world datasets.\n"
   ]
  }
 ],
 "metadata": {
  "kernelspec": {
   "display_name": "Python 3 (ipykernel)",
   "language": "python",
   "name": "python3"
  },
  "language_info": {
   "codemirror_mode": {
    "name": "ipython",
    "version": 3
   },
   "file_extension": ".py",
   "mimetype": "text/x-python",
   "name": "python",
   "nbconvert_exporter": "python",
   "pygments_lexer": "ipython3",
   "version": "3.12.0"
  }
 },
 "nbformat": 4,
 "nbformat_minor": 5
}
