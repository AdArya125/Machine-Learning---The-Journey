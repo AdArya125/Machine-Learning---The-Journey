{
 "cells": [
  {
   "cell_type": "markdown",
   "id": "1429d779-b0bd-4326-a214-4ad2845c7508",
   "metadata": {},
   "source": [
    "# 5.4.1 Bootstrapping\n",
    "\n",
    "## Explanation of Bootstrapping\n",
    "\n",
    "Bootstrapping is a resampling technique used to estimate the distribution of a statistic by sampling with replacement from the original dataset. This method allows for the estimation of the sampling distribution of almost any statistic, such as mean, variance, or correlation, by generating multiple resampled datasets (called bootstrap samples) and calculating the desired statistic for each sample."
   ]
  },
  {
   "cell_type": "markdown",
   "id": "f1797256-fe20-49d7-9439-a467fc136565",
   "metadata": {},
   "source": [
    "## Confidence Intervals\n",
    "\n",
    "A confidence interval is a range of values that is likely to contain a population parameter with a certain level of confidence. In the context of bootstrapping, confidence intervals can be constructed by taking the percentiles of the bootstrap distribution. For example, a 95% confidence interval for a statistic can be obtained by taking the 2.5th percentile and the 97.5th percentile of the bootstrap distribution.\n",
    "\n",
    "The formula for the confidence interval is:\n",
    "\n",
    "$$\n",
    "CI = \\left( \\text{lower percentile}, \\text{upper percentile} \\right)\n",
    "$$\n",
    "\n",
    "For a 95% confidence interval, this is typically:\n",
    "\n",
    "$$\n",
    "CI_{95\\%} = \\left( \\text{percentile}_{2.5\\%}, \\text{percentile}_{97.5\\%} \\right)\n",
    "$$\n",
    "\n",
    "\n",
    "### Explanation of the Formulas\n",
    "\n",
    "- **Confidence Level (\\(\\alpha\\))**: This sets the confidence level to 95%. It means we are 95% confident that the interval contains the true population parameter. Mathematically, $\\alpha = 0.95$.\n",
    "- **Percentile Calculation for Lower Bound**: The lower bound percentile is calculated using $$\\left(\\frac{1 - \\alpha}{2}\\right) \\times 100$$ For a 95% confidence interval, this is $$\\left(\\frac{1 - 0.95}{2}\\right) \\times 100 = 2.5\\%$$\n",
    "- **Lower Bound of Confidence Interval**: The lower bound is found by determining the value below which 2.5% of the bootstrap sample statistics fall. If $ S $ is the sorted array of bootstrap sample statistics, the lower bound is $ S_{\\text{2.5th percentile}} $.\n",
    "- **Upper Bound of Confidence Interval**: The upper bound is found by determining the value below which 97.5% of the bootstrap sample statistics fall. This is calculated as $ 100\\% - 2.5\\% = 97.5\\% $. Thus, the upper bound is $ S_{\\text{97.5th percentile}} $.\n"
   ]
  },
  {
   "cell_type": "markdown",
   "id": "0ed2d78c-c61f-4278-b504-1ced477becb5",
   "metadata": {},
   "source": [
    "___\n",
    "___\n",
    "\n",
    "### Readings:\n",
    "- [A Gentle Introduction to the Bootstrap Method](https://machinelearningmastery.com/a-gentle-introduction-to-the-bootstrap-method/)\n",
    "- [How to test machine learning models using bootstrapping](https://thinkingneuron.com/how-to-test-machine-learning-models-using-bootstrapping/)\n",
    "___\n",
    "___"
   ]
  },
  {
   "cell_type": "markdown",
   "id": "2a8ab54d-a0f4-483e-b783-792bb5c27c8c",
   "metadata": {},
   "source": [
    "## Benefits of Bootstrapping\n",
    "\n",
    "1. **No Assumptions Required**: Unlike parametric methods, bootstrapping does not require any assumptions about the underlying distribution of the data.\n",
    "2. **Versatility**: Bootstrapping can be used for various statistics and models, including those that are difficult to analyze using traditional methods.\n",
    "3. **Robustness**: It provides robust estimates of standard errors, confidence intervals, and other statistical measures, especially when the sample size is small or the data distribution is unknown.\n",
    "4. **Computationally Feasible**: With the advent of powerful computers, bootstrapping has become a practical approach for many statistical problems."
   ]
  },
  {
   "cell_type": "markdown",
   "id": "d294aa09-22d1-4dc0-bf2d-fbf8be89e95c",
   "metadata": {},
   "source": [
    "## Scenarios for Using Bootstrapping\n",
    "\n",
    "1. **Small Sample Sizes**: When the sample size is small and traditional methods are unreliable, bootstrapping provides a more accurate estimation of the statistic's distribution.\n",
    "2. **Unknown Distribution**: When the underlying distribution of the data is unknown or complex, bootstrapping can be used to make inferences without making assumptions about the data distribution.\n",
    "3. **Complex Statistics**: For statistics or models that do not have straightforward analytical solutions, bootstrapping can be used to estimate confidence intervals and standard errors."
   ]
  },
  {
   "cell_type": "markdown",
   "id": "23707cd7-9c1e-4754-94d8-58970b29c12a",
   "metadata": {},
   "source": [
    "## Implementing Bootstrapping\n",
    "\n",
    "Bootstrapping involves the following steps:\n",
    "\n",
    "1. Randomly sample with replacement from the original dataset to create a bootstrap sample.\n",
    "2. Calculate the statistic of interest for the bootstrap sample.\n",
    "3. Repeat steps 1 and 2 many times (typically 1000 or more iterations) to generate a distribution of the statistic.\n",
    "4. Use the distribution of the statistic to estimate confidence intervals, standard errors, or other measures of interest."
   ]
  },
  {
   "cell_type": "markdown",
   "id": "9670f89d-57a1-4f44-b91a-ad94681ad0b9",
   "metadata": {},
   "source": [
    "___\n",
    "### Bootstrapping for mean of data"
   ]
  },
  {
   "cell_type": "code",
   "execution_count": 1,
   "id": "8b8ee756-f721-4474-884e-d3246c55c4a4",
   "metadata": {},
   "outputs": [],
   "source": [
    "import numpy as np\n",
    "import pandas as pd\n",
    "import matplotlib.pyplot as plt\n",
    "from sklearn.utils import resample"
   ]
  },
  {
   "cell_type": "code",
   "execution_count": 2,
   "id": "b117645b-00a4-42d7-be9c-90eeb39c8ab5",
   "metadata": {},
   "outputs": [],
   "source": [
    "# Load a dataset (e.g., California housing dataset)\n",
    "from sklearn.datasets import fetch_california_housing\n",
    "data = fetch_california_housing()\n",
    "X, y = data.data, data.target"
   ]
  },
  {
   "cell_type": "code",
   "execution_count": 3,
   "id": "696c2722-b8d9-45af-a54f-7ed658452336",
   "metadata": {},
   "outputs": [],
   "source": [
    "# Define the statistic to be calculated (e.g., mean)\n",
    "def calculate_statistic(data, target):\n",
    "    return np.mean(target)"
   ]
  },
  {
   "cell_type": "code",
   "execution_count": 4,
   "id": "bbb1dced-82ab-42c9-af9b-ad218d8c0a3f",
   "metadata": {},
   "outputs": [],
   "source": [
    "# Number of bootstrap samples\n",
    "n_iterations = 1000\n",
    "n_size = len(X)\n",
    "\n",
    "# Run bootstrapping\n",
    "stats = []\n",
    "for i in range(n_iterations):\n",
    "    X_resampled, y_resampled = resample(X, y, n_samples=n_size, replace=True)\n",
    "    stat = calculate_statistic(X_resampled, y_resampled)\n",
    "    stats.append(stat)"
   ]
  },
  {
   "cell_type": "code",
   "execution_count": 5,
   "id": "e73bdb9f-eb9c-4091-b055-315cde17287b",
   "metadata": {},
   "outputs": [
    {
     "name": "stdout",
     "output_type": "stream",
     "text": [
      "95.0% confidence interval for the mean: 2.05 to 2.08\n"
     ]
    }
   ],
   "source": [
    "# Calculate confidence intervals\n",
    "alpha = 0.95\n",
    "p = ((1.0-alpha)/2.0) * 100\n",
    "lower = np.percentile(stats, p)\n",
    "upper = np.percentile(stats, 100-p)\n",
    "print(f'{alpha*100:.1f}% confidence interval for the mean: {lower:.2f} to {upper:.2f}')"
   ]
  },
  {
   "cell_type": "code",
   "execution_count": 6,
   "id": "c4d0b1dd-632c-46f0-8b1c-42d3eef4259e",
   "metadata": {},
   "outputs": [
    {
     "data": {
      "image/png": "[encoded data removed]",
      "text/plain": [
       "<Figure size 640x480 with 1 Axes>"
      ]
     },
     "metadata": {},
     "output_type": "display_data"
    }
   ],
   "source": [
    "# Plot the distribution of bootstrap samples\n",
    "plt.hist(stats, bins=30, edgecolor='k', alpha=0.7)\n",
    "plt.title('Bootstrap Distribution of the Mean')\n",
    "plt.xlabel('Mean Value')\n",
    "plt.ylabel('Frequency')\n",
    "plt.show()"
   ]
  },
  {
   "cell_type": "markdown",
   "id": "6d5ca6a6-bb6d-4b7a-9da2-5a3630b126fd",
   "metadata": {},
   "source": [
    "___\n",
    "### Bootstrapping in context of Model Validation\n"
   ]
  },
  {
   "cell_type": "code",
   "execution_count": 7,
   "id": "884a1085-b6dd-4c93-942e-2b1b295829b0",
   "metadata": {},
   "outputs": [],
   "source": [
    "import numpy as np\n",
    "import pandas as pd\n",
    "import matplotlib.pyplot as plt\n",
    "from sklearn.utils import resample\n",
    "from sklearn.linear_model import LinearRegression\n",
    "from sklearn.metrics import mean_squared_error\n",
    "from sklearn.model_selection import train_test_split\n",
    "from sklearn.datasets import fetch_california_housing"
   ]
  },
  {
   "cell_type": "code",
   "execution_count": 8,
   "id": "37445bfc-12a6-4693-95ea-59010b111150",
   "metadata": {},
   "outputs": [],
   "source": [
    "# Load a dataset (e.g., California housing dataset)\n",
    "data = fetch_california_housing()\n",
    "X, y = data.data, data.target"
   ]
  },
  {
   "cell_type": "code",
   "execution_count": 9,
   "id": "34f0653d-f59a-4523-b005-71b5e217f42e",
   "metadata": {},
   "outputs": [],
   "source": [
    "# Split the dataset into training and testing sets\n",
    "X_train, X_test, y_train, y_test = train_test_split(X, y, test_size=0.3, random_state=42)\n",
    "\n",
    "# Define the model\n",
    "model = LinearRegression()"
   ]
  },
  {
   "cell_type": "code",
   "execution_count": 10,
   "id": "83fcf4d1-d9dd-49a6-b530-b53c7aaeb453",
   "metadata": {},
   "outputs": [],
   "source": [
    "# Number of bootstrap samples\n",
    "n_iterations = 1000\n",
    "n_size = len(X_train)\n",
    "\n",
    "# Run bootstrapping\n",
    "mse_scores = []\n",
    "for i in range(n_iterations):\n",
    "    X_resampled, y_resampled = resample(X_train, y_train, n_samples=n_size, replace=True)\n",
    "    model.fit(X_resampled, y_resampled)\n",
    "    y_pred = model.predict(X_test)\n",
    "    mse = mean_squared_error(y_test, y_pred)\n",
    "    mse_scores.append(mse)"
   ]
  },
  {
   "cell_type": "code",
   "execution_count": 11,
   "id": "9c61e4c0-257c-44c0-aaa7-433433404319",
   "metadata": {},
   "outputs": [
    {
     "name": "stdout",
     "output_type": "stream",
     "text": [
      "95.0% confidence interval for the MSE: 0.52 to 0.54\n"
     ]
    }
   ],
   "source": [
    "# Calculate confidence intervals\n",
    "alpha = 0.95\n",
    "p = ((1.0-alpha)/2.0) * 100\n",
    "lower = np.percentile(mse_scores, p)\n",
    "upper = np.percentile(mse_scores, 100-p)\n",
    "print(f'{alpha*100:.1f}% confidence interval for the MSE: {lower:.2f} to {upper:.2f}')"
   ]
  },
  {
   "cell_type": "code",
   "execution_count": 12,
   "id": "b2b26252-680c-4655-ae9f-7f25579919e9",
   "metadata": {},
   "outputs": [
    {
     "data": {
      "image/png": "[encoded data removed]",
      "text/plain": [
       "<Figure size 640x480 with 1 Axes>"
      ]
     },
     "metadata": {},
     "output_type": "display_data"
    }
   ],
   "source": [
    "# Plot the distribution of bootstrap MSE scores\n",
    "plt.hist(mse_scores, bins=30, edgecolor='k', alpha=0.7)\n",
    "plt.title('Bootstrap Distribution of MSE')\n",
    "plt.xlabel('MSE')\n",
    "plt.ylabel('Frequency')\n",
    "plt.show()"
   ]
  },
  {
   "cell_type": "markdown",
   "id": "eae4d14d-5779-4707-8b10-a90639e6ddf2",
   "metadata": {},
   "source": [
    "## Conclusion\n",
    "\n",
    "Bootstrapping is a powerful and versatile resampling technique that provides robust estimates of statistical measures without making assumptions about the underlying data distribution. It is particularly useful for small sample sizes, unknown distributions, and complex statistics. By generating multiple resampled datasets and calculating the desired statistic for each sample, bootstrapping allows for the estimation of confidence intervals, standard errors, and other measures of interest, making it a valuable tool in the field of statistics and data analysis.\n",
    "\n",
    "### Interpretation of the Result\n",
    "\n",
    "The result of the bootstrapping procedure provides a 95% confidence interval for the mean squared error (MSE) of the linear regression model on the test set. The interval gives a range of values within which we can be 95% confident that the true MSE of the model lies. For example, if the 95% confidence interval for the MSE is (0.50, 0.70), it means that we are 95% confident that the true MSE of the model on unseen data lies between 0.50 and 0.70. This provides a measure of the precision of our estimate and the reliability of our inference about the model's performance based on the sample data.\n"
   ]
  }
 ],
 "metadata": {
  "kernelspec": {
   "display_name": "Python 3 (ipykernel)",
   "language": "python",
   "name": "python3"
  },
  "language_info": {
   "codemirror_mode": {
    "name": "ipython",
    "version": 3
   },
   "file_extension": ".py",
   "mimetype": "text/x-python",
   "name": "python",
   "nbconvert_exporter": "python",
   "pygments_lexer": "ipython3",
   "version": "3.12.0"
  }
 },
 "nbformat": 4,
 "nbformat_minor": 5
}
