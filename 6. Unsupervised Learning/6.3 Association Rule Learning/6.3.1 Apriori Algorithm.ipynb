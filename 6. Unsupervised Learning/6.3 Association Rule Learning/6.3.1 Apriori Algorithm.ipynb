{
 "cells": [
  {
   "cell_type": "markdown",
   "id": "a78a005b-9abb-4057-bfff-f152e6eb7191",
   "metadata": {},
   "source": [
    "# 6.3.1 Apriori Algorithm\n",
    "\n",
    "## Explanation of the Apriori Algorithm\n",
    "\n",
    "The Apriori Algorithm is a classic algorithm used in data mining for learning association rules. The algorithm operates on a database of transactions, where each transaction is a set of items. The Apriori Algorithm identifies the frequent itemsets in the database and then uses these itemsets to generate association rules.\n",
    "\n",
    "## Transactional Database\n",
    "\n",
    "A **transactional database** is a collection of transactions, where each transaction is a set of items bought together. In the context of market basket analysis, a transaction typically represents a customer's purchase, and the items in the transaction are the products bought. Here's an example of a simple transactional database:\n",
    "\n",
    "| Transaction ID | Items                           |\n",
    "|----------------|---------------------------------|\n",
    "| 1              | Milk, Bread, Butter             |\n",
    "| 2              | Bread, Butter                   |\n",
    "| 3              | Milk, Bread, Butter, Cereal     |\n",
    "| 4              | Bread, Butter, Cereal           |\n",
    "| 5              | Milk, Bread                     |\n",
    "| 6              | Butter, Cereal                  |\n",
    "\n",
    "In this example, each row represents a transaction, and the items column lists the products purchased in that transaction."
   ]
  },
  {
   "cell_type": "markdown",
   "id": "462bd835-2d5f-4d7c-b9cb-003d0a5373ce",
   "metadata": {},
   "source": [
    "___\n",
    "___\n",
    "\n",
    "### Readings:\n",
    "- [Apriori — Association Rule Mining In-depth Explanation and Python Implementation](https://towardsdatascience.com/apriori-association-rule-mining-explanation-and-python-implementation-290b42afdfc6)\n",
    "- [Apriori Algorithm In Data Mining: Implementation, Examples, and More](https://www.analytixlabs.co.in/blog/apriori-algorithm-in-data-mining/)\n",
    "- [Apriori Algorithm in Python (Recommendation Engine)](https://deepak6446.medium.com/apriori-algorithm-in-python-recommendation-engine-5ba89bd1a6da)\n",
    "- [Apriori Algorithm](https://athena.ecs.csus.edu/~mei/associationcw/Apriori.html)\n",
    "___\n",
    "___"
   ]
  },
  {
   "cell_type": "markdown",
   "id": "9ca298ac-8a82-4583-ab7e-028973ff61fd",
   "metadata": {},
   "source": [
    "## Benefits and Scenarios for Using the Apriori Algorithm\n",
    "\n",
    "**Benefits:**\n",
    "\n",
    "- **Simplicity**: Easy to understand and implement.\n",
    "- **Effectiveness**: Efficiently identifies frequent itemsets and generates association rules.\n",
    "- **Applicability**: Can be used in various domains such as market basket analysis, recommendation systems, and web usage mining.\n",
    "\n",
    "**Scenarios:**\n",
    "\n",
    "- **Market Basket Analysis**: Finding products that frequently co-occur in transactions.\n",
    "- **Recommendation Systems**: Suggesting items that are frequently bought together.\n",
    "- **Web Usage Mining**: Identifying patterns in user navigation behavior on websites."
   ]
  },
  {
   "cell_type": "markdown",
   "id": "a7c3fc4d-4745-4297-8212-beaffe800ec8",
   "metadata": {},
   "source": [
    "___\n",
    "- ### Example Dataset"
   ]
  },
  {
   "cell_type": "code",
   "execution_count": 1,
   "id": "1a812245-c3e0-49ca-b1ca-0788f3f30429",
   "metadata": {},
   "outputs": [],
   "source": [
    "from mlxtend.frequent_patterns import apriori, association_rules\n",
    "from mlxtend.preprocessing import TransactionEncoder\n",
    "import pandas as pd"
   ]
  },
  {
   "cell_type": "code",
   "execution_count": 2,
   "id": "ecaca7b9-4d2c-42a0-ae2d-eb7bdd9cc2bb",
   "metadata": {},
   "outputs": [],
   "source": [
    "# Example transaction data\n",
    "dataset = [\n",
    "    ['milk', 'bread', 'butter'],\n",
    "    ['bread', 'butter'],\n",
    "    ['milk', 'bread', 'butter', 'cereal'],\n",
    "    ['bread', 'butter', 'cereal'],\n",
    "    ['milk', 'bread'],\n",
    "    ['butter', 'cereal']\n",
    "]"
   ]
  },
  {
   "cell_type": "code",
   "execution_count": 3,
   "id": "83c31c84-1371-4cbb-86af-824f421ee2ec",
   "metadata": {},
   "outputs": [],
   "source": [
    "# Transform data using TransactionEncoder\n",
    "te = TransactionEncoder()\n",
    "te_ary = te.fit(dataset).transform(dataset)\n",
    "df = pd.DataFrame(te_ary, columns=te.columns_)"
   ]
  },
  {
   "cell_type": "code",
   "execution_count": 4,
   "id": "0e2bf97c-e2ed-403b-bb1d-43bc9aa8c48f",
   "metadata": {},
   "outputs": [
    {
     "name": "stdout",
     "output_type": "stream",
     "text": [
      "Frequent Itemsets:\n",
      "    support          itemsets\n",
      "0  0.833333           (bread)\n",
      "1  0.833333          (butter)\n",
      "2  0.500000          (cereal)\n",
      "3  0.500000            (milk)\n",
      "4  0.666667   (butter, bread)\n",
      "5  0.500000     (milk, bread)\n",
      "6  0.500000  (cereal, butter)\n"
     ]
    }
   ],
   "source": [
    "# Generate frequent itemsets\n",
    "frequent_itemsets = apriori(df, min_support=0.5, use_colnames=True)\n",
    "print(\"Frequent Itemsets:\")\n",
    "print(frequent_itemsets)"
   ]
  },
  {
   "cell_type": "code",
   "execution_count": 5,
   "id": "582a3bcd-9d05-43bc-8333-8d30e94ab97e",
   "metadata": {},
   "outputs": [
    {
     "name": "stdout",
     "output_type": "stream",
     "text": [
      "\n",
      "Association Rules:\n",
      "  antecedents consequents  antecedent support  consequent support   support  \\\n",
      "0    (butter)     (bread)            0.833333            0.833333  0.666667   \n",
      "1     (bread)    (butter)            0.833333            0.833333  0.666667   \n",
      "2      (milk)     (bread)            0.500000            0.833333  0.500000   \n",
      "3    (cereal)    (butter)            0.500000            0.833333  0.500000   \n",
      "\n",
      "   confidence  lift  leverage  conviction  zhangs_metric  \n",
      "0         0.8  0.96 -0.027778    0.833333      -0.200000  \n",
      "1         0.8  0.96 -0.027778    0.833333      -0.200000  \n",
      "2         1.0  1.20  0.083333         inf       0.333333  \n",
      "3         1.0  1.20  0.083333         inf       0.333333  \n"
     ]
    }
   ],
   "source": [
    "# Generate association rules\n",
    "rules = association_rules(frequent_itemsets, metric=\"confidence\", min_threshold=0.7)\n",
    "print(\"\\nAssociation Rules:\")\n",
    "print(rules)"
   ]
  },
  {
   "cell_type": "markdown",
   "id": "512b4c07-01d9-489c-87e2-bb9a725634d0",
   "metadata": {},
   "source": [
    "___\n",
    "- ### Using Groceries dataset"
   ]
  },
  {
   "cell_type": "code",
   "execution_count": 6,
   "id": "8903d0c4-6611-486a-a1ac-5eac13605ee7",
   "metadata": {},
   "outputs": [],
   "source": [
    "import pandas as pd\n",
    "from mlxtend.frequent_patterns import apriori, association_rules\n",
    "from mlxtend.preprocessing import TransactionEncoder"
   ]
  },
  {
   "cell_type": "code",
   "execution_count": 7,
   "id": "f5d3e033-8cef-4b5e-90b1-2dcf32a8aced",
   "metadata": {},
   "outputs": [
    {
     "name": "stdout",
     "output_type": "stream",
     "text": [
      "(38765, 3)\n",
      "   Member_number        Date   itemDescription\n",
      "0           1808  21-07-2015    tropical fruit\n",
      "1           2552  05-01-2015        whole milk\n",
      "2           2300  19-09-2015         pip fruit\n",
      "3           1187  12-12-2015  other vegetables\n",
      "4           3037  01-02-2015        whole milk\n"
     ]
    }
   ],
   "source": [
    "# Load the dataset\n",
    "groceries = pd.read_csv(\"Groceries_dataset.csv\")\n",
    "print(groceries.shape)\n",
    "print(groceries.head())"
   ]
  },
  {
   "cell_type": "code",
   "execution_count": 8,
   "id": "b63ac443-53c8-40a7-a6d6-3e7e30939427",
   "metadata": {},
   "outputs": [
    {
     "name": "stdout",
     "output_type": "stream",
     "text": [
      "[['sausage', 'whole milk', 'semi-finished bread', 'yogurt'], ['whole milk', 'pastry', 'salty snack'], ['canned beer', 'misc. beverages']]\n"
     ]
    }
   ],
   "source": [
    "# Get all the transactions as a list of lists\n",
    "all_transactions = [transaction[1]['itemDescription'].tolist() for transaction in list(groceries.groupby(['Member_number', 'Date']))]\n",
    "print(all_transactions[:3])\n",
    "# Transform data using TransactionEncoder\n",
    "te = TransactionEncoder()\n",
    "te_ary = te.fit(all_transactions).transform(all_transactions)\n",
    "df = pd.DataFrame(te_ary, columns=te.columns_)"
   ]
  },
  {
   "cell_type": "code",
   "execution_count": 9,
   "id": "ef08422e-0d6b-492b-84d4-97fc8ca295cb",
   "metadata": {},
   "outputs": [
    {
     "name": "stdout",
     "output_type": "stream",
     "text": [
      "   Instant food products  UHT-milk  abrasive cleaner  artif. sweetener  \\\n",
      "0                  False     False             False             False   \n",
      "1                  False     False             False             False   \n",
      "\n",
      "   baby cosmetics   bags  baking powder  bathroom cleaner   beef  berries  \\\n",
      "0           False  False          False             False  False    False   \n",
      "1           False  False          False             False  False    False   \n",
      "\n",
      "   ...  turkey  vinegar  waffles  whipped/sour cream  whisky  white bread  \\\n",
      "0  ...   False    False    False               False   False        False   \n",
      "1  ...   False    False    False               False   False        False   \n",
      "\n",
      "   white wine  whole milk  yogurt  zwieback  \n",
      "0       False        True    True     False  \n",
      "1       False        True   False     False  \n",
      "\n",
      "[2 rows x 167 columns]\n"
     ]
    }
   ],
   "source": [
    "print(df.head(2))"
   ]
  },
  {
   "cell_type": "code",
   "execution_count": 10,
   "id": "f4acd65d-24ed-4db8-a2b2-3b7a09f516f5",
   "metadata": {},
   "outputs": [
    {
     "name": "stdout",
     "output_type": "stream",
     "text": [
      "Frequent Itemsets:\n",
      "     support                        itemsets\n",
      "0   0.021386                      (UHT-milk)\n",
      "1   0.033950                          (beef)\n",
      "2   0.021787                       (berries)\n",
      "3   0.016574                     (beverages)\n",
      "4   0.045312                  (bottled beer)\n",
      "..       ...                             ...\n",
      "64  0.010559  (rolls/buns, other vegetables)\n",
      "65  0.014837  (other vegetables, whole milk)\n",
      "66  0.013968        (rolls/buns, whole milk)\n",
      "67  0.011629              (whole milk, soda)\n",
      "68  0.011161            (yogurt, whole milk)\n",
      "\n",
      "[69 rows x 2 columns]\n",
      "\n",
      "Association Rules:\n",
      "          antecedents   consequents  antecedent support  consequent support  \\\n",
      "0  (other vegetables)  (whole milk)            0.122101            0.157923   \n",
      "1        (rolls/buns)  (whole milk)            0.110005            0.157923   \n",
      "2              (soda)  (whole milk)            0.097106            0.157923   \n",
      "3            (yogurt)  (whole milk)            0.085879            0.157923   \n",
      "\n",
      "    support  confidence      lift  leverage  conviction  zhangs_metric  \n",
      "0  0.014837    0.121511  0.769430 -0.004446    0.958551      -0.254477  \n",
      "1  0.013968    0.126974  0.804028 -0.003404    0.964550      -0.214986  \n",
      "2  0.011629    0.119752  0.758296 -0.003707    0.956636      -0.260917  \n",
      "3  0.011161    0.129961  0.822940 -0.002401    0.967861      -0.190525  \n"
     ]
    }
   ],
   "source": [
    "# Generate frequent itemsets with a lower minimum support\n",
    "frequent_itemsets = apriori(df, min_support=0.01, use_colnames=True)\n",
    "print(\"Frequent Itemsets:\")\n",
    "print(frequent_itemsets)\n",
    "\n",
    "# Generate association rules\n",
    "rules = association_rules(frequent_itemsets, metric=\"confidence\", min_threshold=0.1)\n",
    "print(\"\\nAssociation Rules:\")\n",
    "print(rules)"
   ]
  },
  {
   "cell_type": "markdown",
   "id": "a2d6aa33-1cdd-4d05-9c36-5b3830247ccd",
   "metadata": {},
   "source": [
    "___\n",
    "___\n",
    "## Conclusion\n",
    "\n",
    "The Apriori Algorithm is a fundamental method for mining frequent itemsets and discovering association rules in transaction datasets. Its simplicity and effectiveness make it a popular choice in various domains such as market basket analysis and recommendation systems.\n",
    "\n",
    "### Key Points\n",
    "\n",
    "- **Identifying Patterns**: Apriori helps in identifying patterns and relationships between items in large datasets.\n",
    "- **Efficiency**: The algorithm is efficient in handling large datasets with numerous transactions.\n",
    "- **Versatility**: Can be applied in various fields beyond market basket analysis, such as bioinformatics and web usage mining.\n",
    "\n",
    "The provided Python implementation demonstrates how to apply the Apriori Algorithm to a sample dataset, showcasing the identification of frequent itemsets and generation of association rules. Lowering the minimum support threshold can help in identifying more frequent itemsets and generating meaningful association rules.\n"
   ]
  }
 ],
 "metadata": {
  "kernelspec": {
   "display_name": "Python 3 (ipykernel)",
   "language": "python",
   "name": "python3"
  },
  "language_info": {
   "codemirror_mode": {
    "name": "ipython",
    "version": 3
   },
   "file_extension": ".py",
   "mimetype": "text/x-python",
   "name": "python",
   "nbconvert_exporter": "python",
   "pygments_lexer": "ipython3",
   "version": "3.12.0"
  }
 },
 "nbformat": 4,
 "nbformat_minor": 5
}
