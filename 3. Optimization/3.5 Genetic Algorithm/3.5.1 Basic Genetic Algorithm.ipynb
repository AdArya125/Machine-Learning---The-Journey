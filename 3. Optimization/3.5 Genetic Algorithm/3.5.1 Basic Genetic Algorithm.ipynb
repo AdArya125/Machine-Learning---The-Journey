{
 "cells": [
  {
   "cell_type": "markdown",
   "id": "1d7d7e19-695a-40dc-92ed-eae3ec6bac18",
   "metadata": {},
   "source": [
    "# 3.5.1 Basic Genetic Algorithm\n",
    "\n",
    "## Introduction\n",
    "\n",
    "Genetic Algorithms (GAs) are a class of optimization algorithms inspired by the process of natural selection. They are used to solve both constrained and unconstrained optimization problems by simulating the process of natural evolution. GAs are particularly useful for solving problems where the search space is large, complex, or poorly understood, making traditional optimization techniques less effective.\n",
    "\n",
    "The basic principles of Genetic Algorithms include:\n",
    "\n",
    "1. **Initialization**: A population of potential solutions is generated randomly. Each solution, called an individual or chromosome, is represented as a string of values (genes).\n",
    "\n",
    "2. **Selection**: Individuals are evaluated based on a fitness function, which measures how well they solve the problem. The fittest individuals are selected to pass their genes to the next generation.\n",
    "\n",
    "3. **Crossover**: Selected individuals pair up and exchange parts of their genes to produce offspring. This process, inspired by biological reproduction, allows the algorithm to explore new solutions.\n",
    "\n",
    "4. **Mutation**: Random changes are introduced to some genes of the offspring. Mutation helps maintain genetic diversity within the population and prevents premature convergence to suboptimal solutions.\n",
    "\n",
    "5. **Replacement**: The new generation of individuals replaces the old one, and the process repeats until a termination condition is met (e.g., a maximum number of generations or a satisfactory fitness level)."
   ]
  },
  {
   "cell_type": "markdown",
   "id": "8d4a274c-cfeb-4847-9853-31a0160c021b",
   "metadata": {},
   "source": [
    "## Readings:\n",
    "- [Genetic Algorithm in Machine Learning](https://www.javatpoint.com/genetic-algorithm-in-machine-learning)\n",
    "- [Introduction to Genetic Algorithms](https://readmedium.com/en/https:/towardsdatascience.com/introduction-to-genetic-algorithms-including-example-code-e396e98d8bf3)"
   ]
  },
  {
   "cell_type": "markdown",
   "id": "220078dd-2cda-4801-8165-9af34c761bb8",
   "metadata": {},
   "source": [
    "In this section, we will explore the basic principles of Genetic Algorithms and demonstrate how to implement them to solve optimization problems. The process involves initializing a population of solutions, selecting the best solutions, combining them to create new solutions, and introducing random mutations to maintain diversity in the population.\n",
    "\n",
    "We will apply a Genetic Algorithm to minimize a well-known optimization benchmark, the Rastrigin function. This function is often used to test the performance of optimization algorithms due to its large search space and many local minima."
   ]
  },
  {
   "cell_type": "code",
   "execution_count": 1,
   "id": "6a8ae0ae-b834-4135-afd5-efbc7ca0db65",
   "metadata": {},
   "outputs": [],
   "source": [
    "import numpy as np\n",
    "import matplotlib.pyplot as plt"
   ]
  },
  {
   "cell_type": "code",
   "execution_count": 2,
   "id": "fdb694d9-b487-4fc6-9e49-9495c1ccb2f1",
   "metadata": {},
   "outputs": [],
   "source": [
    "# Objective function to minimize (Rastrigin function)\n",
    "def objective_function(x):\n",
    "    return 10 * len(x) + sum(xi**2 - 10 * np.cos(2 * np.pi * xi) for xi in x)"
   ]
  },
  {
   "cell_type": "code",
   "execution_count": 3,
   "id": "7eaba7a9-9ba6-4e09-b53c-38bb204e7b2a",
   "metadata": {},
   "outputs": [],
   "source": [
    "# Initialize population\n",
    "def initialize_population(size, num_genes):\n",
    "    return np.random.uniform(low=-5.12, high=5.12, size=(size, num_genes))"
   ]
  },
  {
   "cell_type": "code",
   "execution_count": 4,
   "id": "3b6fe470-fae9-469f-ac2c-f43f005d24b1",
   "metadata": {},
   "outputs": [],
   "source": [
    "# Selection process\n",
    "def select_parents(pop, fitness, num_parents):\n",
    "    parents = np.empty((num_parents, pop.shape[1]))\n",
    "    for parent_num in range(num_parents):\n",
    "        max_fitness_idx = np.where(fitness == np.max(fitness))\n",
    "        max_fitness_idx = max_fitness_idx[0][0]\n",
    "        parents[parent_num, :] = pop[max_fitness_idx, :]\n",
    "        fitness[max_fitness_idx] = -99999999\n",
    "    return parents"
   ]
  },
  {
   "cell_type": "code",
   "execution_count": 5,
   "id": "bb210c02-a901-4eb4-96cd-4819eb922429",
   "metadata": {},
   "outputs": [],
   "source": [
    "# Crossover process\n",
    "def crossover(parents, offspring_size):\n",
    "    offspring = np.empty(offspring_size)\n",
    "    crossover_point = np.uint8(offspring_size[1]/2)\n",
    "    for k in range(offspring_size[0]):\n",
    "        parent1_idx = k % parents.shape[0]\n",
    "        parent2_idx = (k+1) % parents.shape[0]\n",
    "        offspring[k, 0:crossover_point] = parents[parent1_idx, 0:crossover_point]\n",
    "        offspring[k, crossover_point:] = parents[parent2_idx, crossover_point:]\n",
    "    return offspring"
   ]
  },
  {
   "cell_type": "code",
   "execution_count": 6,
   "id": "b6784819-06ff-428c-bcdd-f3b0e92558b5",
   "metadata": {},
   "outputs": [],
   "source": [
    "# Mutation process\n",
    "def mutate(offspring_crossover, mutation_rate):\n",
    "    for idx in range(offspring_crossover.shape[0]):\n",
    "        for gene_idx in range(offspring_crossover.shape[1]):\n",
    "            if np.random.rand() < mutation_rate:\n",
    "                random_value = np.random.uniform(-1.0, 1.0, 1)[0]\n",
    "                offspring_crossover[idx, gene_idx] += random_value\n",
    "    return offspring_crossover"
   ]
  },
  {
   "cell_type": "code",
   "execution_count": 7,
   "id": "9690ac98-38e8-4366-95b4-3d835277c64c",
   "metadata": {},
   "outputs": [],
   "source": [
    "# Genetic Algorithm parameters\n",
    "population_size = 50\n",
    "num_generations = 100\n",
    "num_parents_mating = 10\n",
    "mutation_rate = 0.1\n",
    "num_genes = 2"
   ]
  },
  {
   "cell_type": "code",
   "execution_count": 8,
   "id": "c820a137-29c0-41ea-ac2e-b2e95ec1824c",
   "metadata": {},
   "outputs": [
    {
     "name": "stdout",
     "output_type": "stream",
     "text": [
      "[[-1.69077172  0.40576563]\n",
      " [ 4.49493669  2.09728168]\n",
      " [-0.9640999   2.39056154]\n",
      " [ 1.04921824 -4.04341159]\n",
      " [-3.84738746 -4.20441433]]\n"
     ]
    }
   ],
   "source": [
    "# Genetic Algorithm\n",
    "population = initialize_population(population_size, num_genes)\n",
    "print(population[:5,:])"
   ]
  },
  {
   "cell_type": "code",
   "execution_count": 9,
   "id": "e8d9b5df-6b79-4be0-8098-968da0774464",
   "metadata": {},
   "outputs": [],
   "source": [
    "best_outputs = []\n",
    "for generation in range(num_generations):\n",
    "    fitness = np.array([objective_function(ind) for ind in population])\n",
    "    best_outputs.append(np.min(fitness))\n",
    "    parents = select_parents(population, fitness, num_parents_mating)\n",
    "    offspring_crossover = crossover(parents, (population_size - parents.shape[0], num_genes))\n",
    "    offspring_mutation = mutate(offspring_crossover, mutation_rate)\n",
    "    population[0:parents.shape[0], :] = parents\n",
    "    population[parents.shape[0]:, :] = offspring_mutation"
   ]
  },
  {
   "cell_type": "code",
   "execution_count": 10,
   "id": "5f40fd16-8417-4989-9216-bf20c700df6c",
   "metadata": {},
   "outputs": [
    {
     "name": "stdout",
     "output_type": "stream",
     "text": [
      "Best solution: [-35.95268296 -30.3382626 ]\n",
      "Best solution fitness: 2228.710066479819\n"
     ]
    }
   ],
   "source": [
    "# Best solution\n",
    "fitness = np.array([objective_function(ind) for ind in population])\n",
    "best_match_idx = np.where(fitness == np.min(fitness))\n",
    "best_solution = population[best_match_idx, :][0][0]\n",
    "best_solution_fitness = fitness[best_match_idx][0]\n",
    "\n",
    "print(f\"Best solution: {best_solution}\")\n",
    "print(f\"Best solution fitness: {best_solution_fitness}\")"
   ]
  },
  {
   "cell_type": "code",
   "execution_count": 11,
   "id": "e5eb6289-18a2-4e66-a1a8-ebf9b9c82752",
   "metadata": {},
   "outputs": [
    {
     "data": {
      "image/png": "[encoded data removed]",
      "text/plain": [
       "<Figure size 640x480 with 1 Axes>"
      ]
     },
     "metadata": {},
     "output_type": "display_data"
    }
   ],
   "source": [
    "# Visualization\n",
    "plt.plot(best_outputs)\n",
    "plt.xlabel(\"Generation\")\n",
    "plt.ylabel(\"Best Fitness\")\n",
    "plt.title(\"Genetic Algorithm Optimization\")\n",
    "plt.grid(True)\n",
    "plt.show()"
   ]
  },
  {
   "cell_type": "markdown",
   "id": "4d6a5b21-9f52-4ec8-841b-859b5dbe3e4e",
   "metadata": {},
   "source": [
    "## Conclusion\n",
    "\n",
    "Genetic Algorithms (GAs) are powerful optimization techniques inspired by the principles of natural evolution. They provide robust solutions to complex optimization problems by mimicking the processes of selection, crossover, and mutation. \n",
    "\n",
    "In this example, we demonstrated the implementation of a basic Genetic Algorithm to minimize the Rastrigin function, a common benchmark problem in optimization. The algorithm successfully evolved the population over generations, converging towards the optimal solution.\n",
    "\n",
    "GAs are widely applicable in various fields, including engineering, economics, and artificial intelligence, where they are used to solve problems that are difficult or impossible to solve using traditional optimization methods. Their ability to explore large search spaces and handle non-linear, multi-modal functions makes them a valuable tool in the optimization toolkit.\n"
   ]
  }
 ],
 "metadata": {
  "kernelspec": {
   "display_name": "Python 3 (ipykernel)",
   "language": "python",
   "name": "python3"
  },
  "language_info": {
   "codemirror_mode": {
    "name": "ipython",
    "version": 3
   },
   "file_extension": ".py",
   "mimetype": "text/x-python",
   "name": "python",
   "nbconvert_exporter": "python",
   "pygments_lexer": "ipython3",
   "version": "3.12.0"
  }
 },
 "nbformat": 4,
 "nbformat_minor": 5
}
