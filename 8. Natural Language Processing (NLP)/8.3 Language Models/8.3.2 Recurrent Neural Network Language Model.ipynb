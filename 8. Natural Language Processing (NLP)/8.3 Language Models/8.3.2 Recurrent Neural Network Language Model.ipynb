{
 "cells": [
  {
   "cell_type": "markdown",
   "id": "cc5b43d8-284a-4f35-a21a-85c8f887964d",
   "metadata": {},
   "source": [
    "# 8.3.2 Recurrent Neural Network Language Model\n",
    "\n",
    "## Explanation of Recurrent Neural Network (RNN) Language Models\n",
    "\n",
    "Recurrent Neural Networks (RNNs) are a class of artificial neural networks designed for sequential data. Unlike traditional neural networks, RNNs have connections that form directed cycles, allowing them to maintain a 'memory' of previous inputs. This characteristic makes them particularly well-suited for tasks involving sequential data, such as natural language processing (NLP).\n",
    "\n",
    "RNNs process inputs sequentially, maintaining a hidden state that captures information about previous words in a sentence. However, vanilla RNNs suffer from issues like vanishing and exploding gradients, which limit their ability to capture long-term dependencies. To address these issues, advanced variants like Long Short-Term Memory (LSTM) and Gated Recurrent Unit (GRU) were developed."
   ]
  },
  {
   "cell_type": "markdown",
   "id": "0cf4cea2-3c07-486a-abea-4a6f5f80bb5d",
   "metadata": {},
   "source": [
    "___\n",
    "___\n",
    "### Readings:\n",
    "- [Language Models and the Dataset](https://classic.d2l.ai/chapter_recurrent-neural-networks/language-models-and-dataset.html)\n",
    "- [Recurrent Neural Networks](https://frcs.github.io/4C16-LectureNotes/recurrent-neural-networks.html)\n",
    "- [RNN Language Models](https://docs.chainer.org/en/stable/examples/ptb.html)\n",
    "- [Recurrent Neural Networks Language Model](https://medium.com/@josephkiran2001/recurrent-neural-networks-language-model-56c14a10db41)\n",
    "___\n",
    "___"
   ]
  },
  {
   "cell_type": "markdown",
   "id": "253cdf6b-7991-4527-bc35-50ca0745f2da",
   "metadata": {},
   "source": [
    "\n",
    "\n",
    "### Applications of RNN Language Models in NLP\n",
    "\n",
    "RNNs and their variants (LSTMs and GRUs) are used in various NLP applications, including:\n",
    "\n",
    "- **Language Modeling**: Predicting the next word in a sentence.\n",
    "- **Text Generation**: Generating new text based on a given input.\n",
    "- **Machine Translation**: Translating text from one language to another.\n",
    "- **Speech Recognition**: Converting spoken language into text.\n",
    "- **Sentiment Analysis**: Determining the sentiment expressed in a piece of text.\n",
    "\n",
    "### Methods for Implementing RNN Language Models\n",
    "\n",
    "Below is an example of how to implement an RNN using the Keas libra"
   ]
  },
  {
   "cell_type": "code",
   "execution_count": 1,
   "id": "d1948b8a-ac9a-48e6-93ef-fe43fe471b66",
   "metadata": {},
   "outputs": [
    {
     "data": {
      "text/html": [
       "<pre style=\"white-space:pre;overflow-x:auto;line-height:normal;font-family:Menlo,'DejaVu Sans Mono',consolas,'Courier New',monospace\"><span style=\"font-weight: bold\">Model: \"sequential\"</span>\n",
       "</pre>\n"
      ],
      "text/plain": [
       "\u001b[1mModel: \"sequential\"\u001b[0m\n"
      ]
     },
     "metadata": {},
     "output_type": "display_data"
    },
    {
     "data": {
      "text/html": [
       "<pre style=\"white-space:pre;overflow-x:auto;line-height:normal;font-family:Menlo,'DejaVu Sans Mono',consolas,'Courier New',monospace\">┏━━━━━━━━━━━━━━━━━━━━━━━━━━━━━━━━━━━━━━┳━━━━━━━━━━━━━━━━━━━━━━━━━━━━━┳━━━━━━━━━━━━━━━━━┓\n",
       "┃<span style=\"font-weight: bold\"> Layer (type)                         </span>┃<span style=\"font-weight: bold\"> Output Shape                </span>┃<span style=\"font-weight: bold\">         Param # </span>┃\n",
       "┡━━━━━━━━━━━━━━━━━━━━━━━━━━━━━━━━━━━━━━╇━━━━━━━━━━━━━━━━━━━━━━━━━━━━━╇━━━━━━━━━━━━━━━━━┩\n",
       "│ embedding (<span style=\"color: #0087ff; text-decoration-color: #0087ff\">Embedding</span>)                │ (<span style=\"color: #00d7ff; text-decoration-color: #00d7ff\">None</span>, <span style=\"color: #00af00; text-decoration-color: #00af00\">9</span>, <span style=\"color: #00af00; text-decoration-color: #00af00\">50</span>)               │           <span style=\"color: #00af00; text-decoration-color: #00af00\">1,200</span> │\n",
       "├──────────────────────────────────────┼─────────────────────────────┼─────────────────┤\n",
       "│ simple_rnn (<span style=\"color: #0087ff; text-decoration-color: #0087ff\">SimpleRNN</span>)               │ (<span style=\"color: #00d7ff; text-decoration-color: #00d7ff\">None</span>, <span style=\"color: #00af00; text-decoration-color: #00af00\">50</span>)                  │           <span style=\"color: #00af00; text-decoration-color: #00af00\">5,050</span> │\n",
       "├──────────────────────────────────────┼─────────────────────────────┼─────────────────┤\n",
       "│ dense (<span style=\"color: #0087ff; text-decoration-color: #0087ff\">Dense</span>)                        │ (<span style=\"color: #00d7ff; text-decoration-color: #00d7ff\">None</span>, <span style=\"color: #00af00; text-decoration-color: #00af00\">1</span>)                   │              <span style=\"color: #00af00; text-decoration-color: #00af00\">51</span> │\n",
       "└──────────────────────────────────────┴─────────────────────────────┴─────────────────┘\n",
       "</pre>\n"
      ],
      "text/plain": [
       "┏━━━━━━━━━━━━━━━━━━━━━━━━━━━━━━━━━━━━━━┳━━━━━━━━━━━━━━━━━━━━━━━━━━━━━┳━━━━━━━━━━━━━━━━━┓\n",
       "┃\u001b[1m \u001b[0m\u001b[1mLayer (type)                        \u001b[0m\u001b[1m \u001b[0m┃\u001b[1m \u001b[0m\u001b[1mOutput Shape               \u001b[0m\u001b[1m \u001b[0m┃\u001b[1m \u001b[0m\u001b[1m        Param #\u001b[0m\u001b[1m \u001b[0m┃\n",
       "┡━━━━━━━━━━━━━━━━━━━━━━━━━━━━━━━━━━━━━━╇━━━━━━━━━━━━━━━━━━━━━━━━━━━━━╇━━━━━━━━━━━━━━━━━┩\n",
       "│ embedding (\u001b[38;5;33mEmbedding\u001b[0m)                │ (\u001b[38;5;45mNone\u001b[0m, \u001b[38;5;34m9\u001b[0m, \u001b[38;5;34m50\u001b[0m)               │           \u001b[38;5;34m1,200\u001b[0m │\n",
       "├──────────────────────────────────────┼─────────────────────────────┼─────────────────┤\n",
       "│ simple_rnn (\u001b[38;5;33mSimpleRNN\u001b[0m)               │ (\u001b[38;5;45mNone\u001b[0m, \u001b[38;5;34m50\u001b[0m)                  │           \u001b[38;5;34m5,050\u001b[0m │\n",
       "├──────────────────────────────────────┼─────────────────────────────┼─────────────────┤\n",
       "│ dense (\u001b[38;5;33mDense\u001b[0m)                        │ (\u001b[38;5;45mNone\u001b[0m, \u001b[38;5;34m1\u001b[0m)                   │              \u001b[38;5;34m51\u001b[0m │\n",
       "└──────────────────────────────────────┴─────────────────────────────┴─────────────────┘\n"
      ]
     },
     "metadata": {},
     "output_type": "display_data"
    },
    {
     "data": {
      "text/html": [
       "<pre style=\"white-space:pre;overflow-x:auto;line-height:normal;font-family:Menlo,'DejaVu Sans Mono',consolas,'Courier New',monospace\"><span style=\"font-weight: bold\"> Total params: </span><span style=\"color: #00af00; text-decoration-color: #00af00\">18,905</span> (73.85 KB)\n",
       "</pre>\n"
      ],
      "text/plain": [
       "\u001b[1m Total params: \u001b[0m\u001b[38;5;34m18,905\u001b[0m (73.85 KB)\n"
      ]
     },
     "metadata": {},
     "output_type": "display_data"
    },
    {
     "data": {
      "text/html": [
       "<pre style=\"white-space:pre;overflow-x:auto;line-height:normal;font-family:Menlo,'DejaVu Sans Mono',consolas,'Courier New',monospace\"><span style=\"font-weight: bold\"> Trainable params: </span><span style=\"color: #00af00; text-decoration-color: #00af00\">6,301</span> (24.61 KB)\n",
       "</pre>\n"
      ],
      "text/plain": [
       "\u001b[1m Trainable params: \u001b[0m\u001b[38;5;34m6,301\u001b[0m (24.61 KB)\n"
      ]
     },
     "metadata": {},
     "output_type": "display_data"
    },
    {
     "data": {
      "text/html": [
       "<pre style=\"white-space:pre;overflow-x:auto;line-height:normal;font-family:Menlo,'DejaVu Sans Mono',consolas,'Courier New',monospace\"><span style=\"font-weight: bold\"> Non-trainable params: </span><span style=\"color: #00af00; text-decoration-color: #00af00\">0</span> (0.00 B)\n",
       "</pre>\n"
      ],
      "text/plain": [
       "\u001b[1m Non-trainable params: \u001b[0m\u001b[38;5;34m0\u001b[0m (0.00 B)\n"
      ]
     },
     "metadata": {},
     "output_type": "display_data"
    },
    {
     "data": {
      "text/html": [
       "<pre style=\"white-space:pre;overflow-x:auto;line-height:normal;font-family:Menlo,'DejaVu Sans Mono',consolas,'Courier New',monospace\"><span style=\"font-weight: bold\"> Optimizer params: </span><span style=\"color: #00af00; text-decoration-color: #00af00\">12,604</span> (49.24 KB)\n",
       "</pre>\n"
      ],
      "text/plain": [
       "\u001b[1m Optimizer params: \u001b[0m\u001b[38;5;34m12,604\u001b[0m (49.24 KB)\n"
      ]
     },
     "metadata": {},
     "output_type": "display_data"
    },
    {
     "data": {
      "image/png": "[encoded data removed]",
      "text/plain": [
       "<Figure size 1000x700 with 1 Axes>"
      ]
     },
     "metadata": {},
     "output_type": "display_data"
    }
   ],
   "source": [
    "import numpy as np\n",
    "from tensorflow.keras.models import Sequential\n",
    "from tensorflow.keras.layers import Embedding, SimpleRNN, Dense\n",
    "from tensorflow.keras.preprocessing.text import Tokenizer\n",
    "from tensorflow.keras.preprocessing.sequence import pad_sequences\n",
    "\n",
    "# Sample text data\n",
    "texts = [\n",
    "    \"The quick brown fox jumps over the lazy dog\",\n",
    "    \"The cat sat on the mat\",\n",
    "    \"The dog barked at the mailman\",\n",
    "    \"The quick brown fox\",\n",
    "    \"The cat chased the mouse\",\n",
    "    \"The dog chased the cat\",\n",
    "    \"The mouse ran away\",\n",
    "    \"The quick cat jumped over the lazy dog\",\n",
    "    \"The quick brown dog\",\n",
    "    \"The lazy dog lay in the sun\"\n",
    "]\n",
    "\n",
    "# Tokenize the text data\n",
    "tokenizer = Tokenizer()\n",
    "tokenizer.fit_on_texts(texts)\n",
    "sequences = tokenizer.texts_to_sequences(texts)\n",
    "\n",
    "# Pad the sequences\n",
    "max_sequence_length = max(len(seq) for seq in sequences)\n",
    "data = pad_sequences(sequences, maxlen=max_sequence_length)\n",
    "\n",
    "# Define the RNN model\n",
    "model = Sequential()\n",
    "model.add(Embedding(input_dim=len(tokenizer.word_index) + 1, output_dim=50))\n",
    "model.add(SimpleRNN(units=50, return_sequences=False))\n",
    "model.add(Dense(units=1, activation='sigmoid'))\n",
    "\n",
    "# Compile the model\n",
    "model.compile(optimizer='adam', loss='binary_crossentropy', metrics=['accuracy'])\n",
    "\n",
    "# Create dummy labels for illustration (binary classification)\n",
    "labels = np.random.randint(2, size=(data.shape[0], 1))\n",
    "\n",
    "# Train the model\n",
    "model.fit(data, labels, epochs=10, verbose=0)\n",
    "\n",
    "# Model summary\n",
    "model.summary()\n",
    "\n",
    "# Generate word vectors using the trained Embedding layer\n",
    "embedding_layer = model.layers[0]\n",
    "word_vectors = embedding_layer.get_weights()[0]\n",
    "\n",
    "# Visualizing the word embeddings\n",
    "import matplotlib.pyplot as plt\n",
    "from sklearn.manifold import TSNE\n",
    "\n",
    "# Extract vectors and their corresponding words\n",
    "words = list(tokenizer.word_index.keys())\n",
    "word_vectors = word_vectors[1:]  # skip the zero-th index (padding)\n",
    "\n",
    "# Reduce perplexity to avoid ValueError\n",
    "tsne = TSNE(n_components=2, random_state=0, perplexity=3)\n",
    "word_vectors_tsne = tsne.fit_transform(word_vectors)\n",
    "\n",
    "# Plotting\n",
    "plt.figure(figsize=(10, 7))\n",
    "plt.scatter(word_vectors_tsne[:, 0], word_vectors_tsne[:, 1])\n",
    "\n",
    "# Annotating the plot with words\n",
    "for i, word in enumerate(words):\n",
    "    plt.annotate(word, xy=(word_vectors_tsne[i, 0], word_vectors_tsne[i, 1]))\n",
    "\n",
    "plt.show()\n"
   ]
  },
  {
   "cell_type": "markdown",
   "id": "b47a3aad-85e9-48ff-9ecf-4357e2c69d6f",
   "metadata": {},
   "source": [
    "## Conclusion\r\n",
    "\r\n",
    "Recurrent Neural Networks (RNNs) are powerful models for handling sequential data in NLP tasks. By maintaining a hidden state, RNNs can capture information from previous inputs, making them ideal for applications such as language modeling, text generation, and machine translation. Advanced variants like LSTMs and GRUs further enhance the capability of RNNs to handle long-term dependencies. Implementing RNNs using libraries like Keras allows for efficient and effective modeling of sequential data in various NLP applications.\r\n"
   ]
  }
 ],
 "metadata": {
  "kernelspec": {
   "display_name": "Python 3 (ipykernel)",
   "language": "python",
   "name": "python3"
  },
  "language_info": {
   "codemirror_mode": {
    "name": "ipython",
    "version": 3
   },
   "file_extension": ".py",
   "mimetype": "text/x-python",
   "name": "python",
   "nbconvert_exporter": "python",
   "pygments_lexer": "ipython3",
   "version": "3.12.0"
  }
 },
 "nbformat": 4,
 "nbformat_minor": 5
}
