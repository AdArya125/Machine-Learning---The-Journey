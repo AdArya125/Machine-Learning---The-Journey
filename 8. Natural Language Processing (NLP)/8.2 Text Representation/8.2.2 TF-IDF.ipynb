{
 "cells": [
  {
   "cell_type": "markdown",
   "id": "cd03c4ed-5599-4b18-a268-5c1c4f7b76f5",
   "metadata": {},
   "source": [
    "# 8.2.2 TF-IDF\r\n",
    "\r\n",
    "Term Frequency-Inverse Document Frequency (TF-IDF) is a statistical measure used to evaluate the importance of a word in a document relative to a collection of documents (corpus). It combines two metrics:\r\n",
    "- **Term Frequency (TF)**: Measures the frequency of a word in a document.\r\n",
    "- **Inverse Document Frequency (IDF)**: Measures the importance of a word by considering how frequently it appears across all documents in the corpus.\r\n",
    "\r\n",
    "TF-IDF helps in reducing the weight of commonly used words and increasing the weight of words that are more unique and informative. This makes it a powerful tool for tasks like document retrieval, text mining, and natural language processing.\r\n",
    "\r\n",
    "## Benefits of TF-IDF\r\n",
    "- **Reduces Noise**: By down-weighting common words, it reduces the impact of less informative words.\r\n",
    "- **Enhances Discrimination**: Highlights important words that distinguish documents.\r\n",
    "- **Widely Used**: Commonly used in various text mining and information retrieval applications.\r\n",
    "\r\n",
    "## Use Cases of TF-IDF\r\n",
    "- **Search Engines**: To rank documents based on their relevance to a query.\r\n",
    "- **Text Classification**: As features for machine learning models.\r\n",
    "- **Document Clustering**: To group similar documents together.\r\n"
   ]
  },
  {
   "cell_type": "markdown",
   "id": "a3ec6761-52a2-46ae-8fc7-d53e46081bef",
   "metadata": {},
   "source": [
    "___\n",
    "___\n",
    "### Readings:\n",
    "- [TF-IDF in NLP (Term Frequency Inverse Document Frequency)](https://medium.com/@abhishekjainindore24/tf-idf-in-nlp-term-frequency-inverse-document-frequency-e05b65932f1d)\n",
    "- [TF-IDF/Term Frequency Technique](https://medium.com/analytics-vidhya/tf-idf-term-frequency-technique-easiest-explanation-for-text-classification-in-nlp-with-code-8ca3912e58c3)\n",
    "- [Understanding TF-IDF in NLP: A Comprehensive Guide](https://medium.com/@er.iit.pradeep09/understanding-tf-idf-in-nlp-a-comprehensive-guide-26707db0cec5)\n",
    "- [Understanding TF-IDF for Absolute Beginners](https://readmedium.com/en/https:/medium.com/analytics-vidhya/understanding-tfidf-for-absolute-beginners-f2c260b8944b)\n",
    "___\n",
    "___"
   ]
  },
  {
   "cell_type": "code",
   "execution_count": 1,
   "id": "94181b56-5baa-4c4b-85b1-98a03b67f205",
   "metadata": {},
   "outputs": [
    {
     "name": "stdout",
     "output_type": "stream",
     "text": [
      "Vocabulary:\n",
      " {'machine': 8, 'learning': 7, 'is': 6, 'fascinating': 4, 'algorithms': 0, 'are': 1, 'essential': 3, 'subset': 10, 'of': 9, 'artificial': 2, 'intelligence': 5}\n",
      "\n",
      "TF-IDF Matrix:\n",
      " [[0.         0.         0.         0.         0.63174505 0.\n",
      "  0.4804584  0.37311881 0.4804584  0.         0.        ]\n",
      " [0.54645401 0.54645401 0.         0.54645401 0.         0.\n",
      "  0.         0.32274454 0.         0.         0.        ]\n",
      " [0.         0.         0.4261835  0.         0.         0.4261835\n",
      "  0.32412354 0.25171084 0.32412354 0.4261835  0.4261835 ]]\n"
     ]
    }
   ],
   "source": [
    "from sklearn.feature_extraction.text import TfidfVectorizer\n",
    "\n",
    "# Sample text data\n",
    "texts = [\n",
    "    \"Machine learning is fascinating\",\n",
    "    \"Learning algorithms are essential\",\n",
    "    \"Machine learning is a subset of artificial intelligence\"\n",
    "]\n",
    "\n",
    "# Create the TF-IDF model\n",
    "tfidf_vectorizer = TfidfVectorizer()\n",
    "tfidf_matrix = tfidf_vectorizer.fit_transform(texts)\n",
    "\n",
    "# Display the TF-IDF matrix\n",
    "print(\"Vocabulary:\\n\", tfidf_vectorizer.vocabulary_)\n",
    "print(\"\\nTF-IDF Matrix:\\n\", tfidf_matrix.toarray())\n"
   ]
  },
  {
   "cell_type": "markdown",
   "id": "6d580456-53b4-4164-8943-f8570ba543ce",
   "metadata": {},
   "source": [
    "___\n",
    "___\n",
    "## Conclusion\n",
    "\n",
    "TF-IDF is a powerful text representation technique that balances the frequency of words in individual documents with their importance across the entire corpus. This makes it particularly useful for tasks that require distinguishing between relevant and irrelevant documents. By reducing the weight of common words and highlighting unique words, TF-IDF improves the quality of text analysis and retrieval.\r\n"
   ]
  }
 ],
 "metadata": {
  "kernelspec": {
   "display_name": "Python 3 (ipykernel)",
   "language": "python",
   "name": "python3"
  },
  "language_info": {
   "codemirror_mode": {
    "name": "ipython",
    "version": 3
   },
   "file_extension": ".py",
   "mimetype": "text/x-python",
   "name": "python",
   "nbconvert_exporter": "python",
   "pygments_lexer": "ipython3",
   "version": "3.12.0"
  }
 },
 "nbformat": 4,
 "nbformat_minor": 5
}
