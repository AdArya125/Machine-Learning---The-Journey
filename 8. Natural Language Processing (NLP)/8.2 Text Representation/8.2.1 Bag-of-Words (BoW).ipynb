{
 "cells": [
  {
   "cell_type": "markdown",
   "id": "529a0237-18a1-4503-879d-64e269d07bdf",
   "metadata": {},
   "source": [
    "# 8.2.1 Bag-of-Words (BoW)\r\n",
    "#### Introduction\r\n",
    "\r\n",
    "The **Bag-of-Words (BoW)** model is a popular and simple method for text representation in natural language processing (NLP). In the BoW model, a text is represented as an unordered collection of words, disregarding grammar and word order but keeping multiplicity. Each unique word in the text corpus is represented as a feature in a fixed-length vector, where the value of each feature is the count of occurrences of the word in the document\n",
    "\r\n",
    "##### Benefits of BoW\r\n",
    "1. **Simplicity**: The BoW model is straightforward to understand and implement.\r\n",
    "2. **Efficiency**: It is computationally efficient for smaller text corpora.\r\n",
    "3. **Flexibility**: BoW can be used with various machine learning algorims.\r\n",
    "\r\n",
    "##### Limitations of BoW\r\n",
    "1. **Lack of Context**: BoW ignores the order of words, which can lead to loss of context and meaning.\r\n",
    "2. **High Dimensionality**: For large corpora, the feature vectors can become very large and sparse.\r\n",
    "3. **Incapability to Capture Semantics**: BoW cannot capture the semantic meaning of words or their relationships.\r\n"
   ]
  },
  {
   "cell_type": "markdown",
   "id": "d5dab6ac-079d-4660-8b51-d2f607f8e955",
   "metadata": {},
   "source": [
    "___\n",
    "___\n",
    "### Readings:\n",
    "- [Bag of Words Model in NLP](https://ayselaydin.medium.com/4-bag-of-words-model-in-nlp-434cb38cdd1b)\n",
    "- [An Introduction to Bag of Words (BoW)](https://medium.com/@vamshiprakash001/an-introduction-to-bag-of-words-bow-c32a65293ccc)\n",
    "- [An Introduction to Bag-of-Words in NLP](https://medium.com/greyatom/an-introduction-to-bag-of-words-in-nlp-ac967d43b428)\n",
    "- [Quick Introduction to Bag-of-Words (BoW) and TF-IDF for Creating Features from Text](https://www.analyticsvidhya.com/blog/2020/02/quick-introduction-bag-of-words-bow-tf-idf/)\n",
    "___\n",
    "___"
   ]
  },
  {
   "cell_type": "code",
   "execution_count": 1,
   "id": "f64af4ab-3c35-4499-8c4f-242288104faa",
   "metadata": {},
   "outputs": [
    {
     "name": "stdout",
     "output_type": "stream",
     "text": [
      "Feature Names:\n",
      " ['about' 'amazing' 'bag' 'is' 'language' 'learning' 'love' 'machine'\n",
      " 'model' 'natural' 'of' 'processing' 'text' 'the' 'with' 'words']\n",
      "\n",
      "BoW Array:\n",
      " [[0 1 0 1 0 2 1 2 0 0 0 0 0 0 0 0]\n",
      " [0 0 1 0 0 0 0 0 1 0 1 1 1 1 1 1]\n",
      " [1 0 0 0 1 1 0 0 0 1 0 1 0 0 0 0]]\n"
     ]
    }
   ],
   "source": [
    "from sklearn.feature_extraction.text import CountVectorizer\n",
    "\n",
    "# Sample text documents\n",
    "documents = [\n",
    "    \"I love machine learning. Machine learning is amazing.\",\n",
    "    \"Text processing with the Bag-of-Words model.\",\n",
    "    \"Learning about natural language processing.\"\n",
    "]\n",
    "\n",
    "# Initialize the CountVectorizer\n",
    "vectorizer = CountVectorizer()\n",
    "\n",
    "# Transform the documents into the BoW representation\n",
    "bow_matrix = vectorizer.fit_transform(documents)\n",
    "\n",
    "# Convert the BoW matrix to an array\n",
    "bow_array = bow_matrix.toarray()\n",
    "\n",
    "# Get the feature names\n",
    "feature_names = vectorizer.get_feature_names_out()\n",
    "\n",
    "print(\"Feature Names:\\n\", feature_names)\n",
    "print(\"\\nBoW Array:\\n\", bow_array)\n"
   ]
  },
  {
   "cell_type": "markdown",
   "id": "6e5c997b-3b94-42ff-95df-169e11490b99",
   "metadata": {},
   "source": [
    "## Conclusion\r\n",
    "\r\n",
    "The Bag-of-Words (BoW) model is a fundamental technique for text representation in NLP. Its simplicity and efficiency make it a useful starting point for many text processing tasks. However, due to its limitations in capturing word context and semantics, more advanced methods like TF-IDF, Word2Vec, and GloVe are often used for more complex text analysis.\r\n"
   ]
  }
 ],
 "metadata": {
  "kernelspec": {
   "display_name": "Python 3 (ipykernel)",
   "language": "python",
   "name": "python3"
  },
  "language_info": {
   "codemirror_mode": {
    "name": "ipython",
    "version": 3
   },
   "file_extension": ".py",
   "mimetype": "text/x-python",
   "name": "python",
   "nbconvert_exporter": "python",
   "pygments_lexer": "ipython3",
   "version": "3.12.0"
  }
 },
 "nbformat": 4,
 "nbformat_minor": 5
}
